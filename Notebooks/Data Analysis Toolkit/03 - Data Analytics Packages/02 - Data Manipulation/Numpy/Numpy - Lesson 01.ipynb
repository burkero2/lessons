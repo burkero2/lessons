{
  "nbformat": 4,
  "nbformat_minor": 0,
  "metadata": {
    "colab": {
      "name": "Code Institute - Data Practitioner.ipynb",
      "provenance": [],
      "collapsed_sections": []
    },
    "kernelspec": {
      "name": "python3",
      "display_name": "Python 3"
    },
    "language_info": {
      "name": "python"
    }
  },
  "cells": [
    {
      "cell_type": "code",
      "metadata": {
        "id": "hcA8GGGr7WiE"
      },
      "source": [
        ""
      ],
      "execution_count": null,
      "outputs": []
    },
    {
      "cell_type": "markdown",
      "metadata": {
        "id": "cevW9Xb2Kn3Y"
      },
      "source": [
        "# Numpy"
      ]
    },
    {
      "cell_type": "markdown",
      "metadata": {
        "id": "kZ0EHLv7OOPa"
      },
      "source": [
        "\n",
        "\n",
        "<img src=\"https://numpy.org/images/logos/numpy.svg\" width=\"250\" height=\"205\" />"
      ]
    },
    {
      "cell_type": "markdown",
      "metadata": {
        "id": "EbZ0OArSOiY_"
      },
      "source": [
        "* NumPy (or Numpy) is a Linear Algebra Library for Python, the reason it is so important for Data Science with Python is that almost all of the libraries in the PyData Ecosystem rely on NumPy as one of their main building blocks."
      ]
    },
    {
      "cell_type": "markdown",
      "metadata": {
        "id": "Nm7owy0jOij0"
      },
      "source": [
        "## Import Package"
      ]
    },
    {
      "cell_type": "code",
      "metadata": {
        "id": "2qAuVin_OvsR"
      },
      "source": [
        "import numpy as np"
      ],
      "execution_count": 1,
      "outputs": []
    },
    {
      "cell_type": "markdown",
      "metadata": {
        "id": "iIGL9fqUNVzN"
      },
      "source": [
        "\n",
        "Numpy\n",
        "np.array() : cast list into a array, cast a list of list to make a matrix (2d array)\n",
        "np.arange(start,stop,step)\n",
        ".shape\n",
        ".dtype\n",
        "np.zeros((row,col))\n",
        "np.ones((row,col))\n",
        "np.linspace(start,stop,n_points)\n",
        "np.eye(diagonal)\n",
        "np.random.rand(2,2) or (2)  (unif distribution)\n",
        "np.random.randint(min,max,n_points)\n",
        ".reshape()\n",
        ".max()\n",
        ".min()\n",
        "argmax() - index location\n",
        "argmin()\n",
        "argmax() index location of max\n",
        "argmin()\n",
        "slice notation to pickup elements  arr[8]  arr[1:5] arr[:7,4:], arr[:,\n",
        "broadcast - copy and reference of array  .copy()\n",
        "\n",
        "numpy.where(condition[, x, y]) - Return elements chosen from x or y depending on condition\n",
        "np.select()\n",
        "arr_2d[:2,1:]\n",
        "conditional selection  arr>5 (bool arr, used as index selection)  arr[arr>5]\n",
        "math operations with array (+ - * /  **2  )  np.sqrt , np.exp(), np.sin(), np.log()   ufunc on numpy doc"
      ]
    },
    {
      "cell_type": "code",
      "metadata": {
        "id": "ADuv_WcoNbvq"
      },
      "source": [
        ""
      ],
      "execution_count": null,
      "outputs": []
    }
  ]
}