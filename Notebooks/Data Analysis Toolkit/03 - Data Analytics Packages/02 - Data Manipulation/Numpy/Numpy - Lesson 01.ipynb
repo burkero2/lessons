{
  "nbformat": 4,
  "nbformat_minor": 0,
  "metadata": {
    "colab": {
      "name": "Code Institute - Data Practitioner.ipynb",
      "provenance": [],
      "collapsed_sections": [],
      "toc_visible": true
    },
    "kernelspec": {
      "name": "python3",
      "display_name": "Python 3"
    },
    "language_info": {
      "name": "python"
    }
  },
  "cells": [
    {
      "cell_type": "code",
      "metadata": {
        "id": "hcA8GGGr7WiE"
      },
      "source": [
        ""
      ],
      "execution_count": null,
      "outputs": []
    },
    {
      "cell_type": "markdown",
      "metadata": {
        "id": "cevW9Xb2Kn3Y"
      },
      "source": [
        "# Numpy"
      ]
    },
    {
      "cell_type": "markdown",
      "metadata": {
        "id": "kZ0EHLv7OOPa"
      },
      "source": [
        "\n",
        "\n",
        "<img src=\"https://numpy.org/images/logos/numpy.svg\" width=\"250\" height=\"205\" />"
      ]
    },
    {
      "cell_type": "markdown",
      "metadata": {
        "id": "EbZ0OArSOiY_"
      },
      "source": [
        "* NumPy (or Numpy) is a Linear Algebra Library for Python, the reason it is so important for Data Science with Python is that almost all of the libraries in the PyData Ecosystem rely on NumPy as one of their main building blocks."
      ]
    },
    {
      "cell_type": "markdown",
      "metadata": {
        "id": "Nm7owy0jOij0"
      },
      "source": [
        "## Import Package"
      ]
    },
    {
      "cell_type": "code",
      "metadata": {
        "id": "2qAuVin_OvsR"
      },
      "source": [
        "import numpy as np"
      ],
      "execution_count": 2,
      "outputs": []
    },
    {
      "cell_type": "markdown",
      "metadata": {
        "id": "wMsillcAPQhs"
      },
      "source": [
        "## Array"
      ]
    },
    {
      "cell_type": "markdown",
      "metadata": {
        "id": "zwVYlfccPwl7"
      },
      "source": [
        "* explain"
      ]
    },
    {
      "cell_type": "code",
      "metadata": {
        "id": "lwyxHifeO6mB",
        "outputId": "e0bcf108-4674-49c6-9200-ed7c62b92eae",
        "colab": {
          "base_uri": "https://localhost:8080/"
        }
      },
      "source": [
        "my_list = [1,2,3]\n",
        "my_list\n",
        "\n",
        "arr = np.array(my_list)\n",
        "arr"
      ],
      "execution_count": 6,
      "outputs": [
        {
          "output_type": "execute_result",
          "data": {
            "text/plain": [
              "array([1, 2, 3])"
            ]
          },
          "metadata": {
            "tags": []
          },
          "execution_count": 6
        }
      ]
    },
    {
      "cell_type": "code",
      "metadata": {
        "id": "3rNhIZ2CO6sA",
        "outputId": "95d2354e-2749-4973-a2b7-3c289b5d44c9",
        "colab": {
          "base_uri": "https://localhost:8080/"
        }
      },
      "source": [
        "my_matrix = [[1,2,3],[4,5,6],[7,8,9]]\n",
        "my_matrix\n",
        "arr = np.array(my_matrix)\n",
        "arr"
      ],
      "execution_count": 14,
      "outputs": [
        {
          "output_type": "execute_result",
          "data": {
            "text/plain": [
              "array([[1, 2, 3],\n",
              "       [4, 5, 6],\n",
              "       [7, 8, 9]])"
            ]
          },
          "metadata": {
            "tags": []
          },
          "execution_count": 14
        }
      ]
    },
    {
      "cell_type": "markdown",
      "metadata": {
        "id": "g7QkexWcQ636"
      },
      "source": [
        "## Built in methods"
      ]
    },
    {
      "cell_type": "code",
      "metadata": {
        "id": "dnzs8bEnO61k",
        "outputId": "86718902-915b-4e65-f138-4ddf26053edc",
        "colab": {
          "base_uri": "https://localhost:8080/"
        }
      },
      "source": [
        "arr = np.arange(start=1,stop=9,step=1)\n",
        "arr"
      ],
      "execution_count": 29,
      "outputs": [
        {
          "output_type": "execute_result",
          "data": {
            "text/plain": [
              "array([1, 2, 3, 4, 5, 6, 7, 8])"
            ]
          },
          "metadata": {
            "tags": []
          },
          "execution_count": 29
        }
      ]
    },
    {
      "cell_type": "code",
      "metadata": {
        "id": "bj5y88jxRLZ8",
        "outputId": "2f7e14b8-405a-483b-da94-dd84362c8d56",
        "colab": {
          "base_uri": "https://localhost:8080/"
        }
      },
      "source": [
        "arr = np.zeros((3,5))\n",
        "arr"
      ],
      "execution_count": 20,
      "outputs": [
        {
          "output_type": "execute_result",
          "data": {
            "text/plain": [
              "array([[0., 0., 0., 0., 0.],\n",
              "       [0., 0., 0., 0., 0.],\n",
              "       [0., 0., 0., 0., 0.]])"
            ]
          },
          "metadata": {
            "tags": []
          },
          "execution_count": 20
        }
      ]
    },
    {
      "cell_type": "code",
      "metadata": {
        "id": "eF5sBy6JRiG7",
        "outputId": "8fcf4cde-84bd-4ffd-c653-9ebda6e4a9d5",
        "colab": {
          "base_uri": "https://localhost:8080/"
        }
      },
      "source": [
        "arr = np.ones((2,5))\n",
        "arr"
      ],
      "execution_count": 21,
      "outputs": [
        {
          "output_type": "execute_result",
          "data": {
            "text/plain": [
              "array([[1., 1., 1., 1., 1.],\n",
              "       [1., 1., 1., 1., 1.]])"
            ]
          },
          "metadata": {
            "tags": []
          },
          "execution_count": 21
        }
      ]
    },
    {
      "cell_type": "code",
      "metadata": {
        "id": "lsYm6mtIRiJB",
        "outputId": "edd43ff8-68ae-4803-a381-041e0ac36c80",
        "colab": {
          "base_uri": "https://localhost:8080/"
        }
      },
      "source": [
        "arr = np.eye(5)\n",
        "arr"
      ],
      "execution_count": 22,
      "outputs": [
        {
          "output_type": "execute_result",
          "data": {
            "text/plain": [
              "array([[1., 0., 0., 0., 0.],\n",
              "       [0., 1., 0., 0., 0.],\n",
              "       [0., 0., 1., 0., 0.],\n",
              "       [0., 0., 0., 1., 0.],\n",
              "       [0., 0., 0., 0., 1.]])"
            ]
          },
          "metadata": {
            "tags": []
          },
          "execution_count": 22
        }
      ]
    },
    {
      "cell_type": "code",
      "metadata": {
        "id": "b95xXY2MRiLa",
        "outputId": "866e4bf0-3ac3-4040-fc68-bd2ec4d0a971",
        "colab": {
          "base_uri": "https://localhost:8080/"
        }
      },
      "source": [
        "arr = np.linspace(start=1,stop=50,num=40)\n",
        "arr"
      ],
      "execution_count": 24,
      "outputs": [
        {
          "output_type": "execute_result",
          "data": {
            "text/plain": [
              "array([ 1.        ,  2.25641026,  3.51282051,  4.76923077,  6.02564103,\n",
              "        7.28205128,  8.53846154,  9.79487179, 11.05128205, 12.30769231,\n",
              "       13.56410256, 14.82051282, 16.07692308, 17.33333333, 18.58974359,\n",
              "       19.84615385, 21.1025641 , 22.35897436, 23.61538462, 24.87179487,\n",
              "       26.12820513, 27.38461538, 28.64102564, 29.8974359 , 31.15384615,\n",
              "       32.41025641, 33.66666667, 34.92307692, 36.17948718, 37.43589744,\n",
              "       38.69230769, 39.94871795, 41.20512821, 42.46153846, 43.71794872,\n",
              "       44.97435897, 46.23076923, 47.48717949, 48.74358974, 50.        ])"
            ]
          },
          "metadata": {
            "tags": []
          },
          "execution_count": 24
        }
      ]
    },
    {
      "cell_type": "code",
      "metadata": {
        "id": "uCSHbGDkRLcV",
        "outputId": "16ebac98-c133-41f9-fc00-8b4cf42dd6fc",
        "colab": {
          "base_uri": "https://localhost:8080/"
        }
      },
      "source": [
        "arr = np.random.rand(2,2)\n",
        "arr"
      ],
      "execution_count": 25,
      "outputs": [
        {
          "output_type": "execute_result",
          "data": {
            "text/plain": [
              "array([[0.12621896, 0.46737409],\n",
              "       [0.52704923, 0.11280501]])"
            ]
          },
          "metadata": {
            "tags": []
          },
          "execution_count": 25
        }
      ]
    },
    {
      "cell_type": "code",
      "metadata": {
        "id": "phE3IexNRLei",
        "outputId": "0fdd3539-8674-46d6-c2d4-8f19fc276bed",
        "colab": {
          "base_uri": "https://localhost:8080/"
        }
      },
      "source": [
        "arr = np.random.randint(low=10,high=50,size=5)\n",
        "arr "
      ],
      "execution_count": 27,
      "outputs": [
        {
          "output_type": "execute_result",
          "data": {
            "text/plain": [
              "array([32, 12, 39, 35, 39])"
            ]
          },
          "metadata": {
            "tags": []
          },
          "execution_count": 27
        }
      ]
    },
    {
      "cell_type": "markdown",
      "metadata": {
        "id": "weQiuBcJUEaF"
      },
      "source": [
        "## Methods"
      ]
    },
    {
      "cell_type": "code",
      "metadata": {
        "id": "b9cjED2-UDg0",
        "outputId": "beb2bbc5-da8f-4ae1-8137-a906458ddbe3",
        "colab": {
          "base_uri": "https://localhost:8080/"
        }
      },
      "source": [
        "arr = np.random.randint(low=1,high=150,size=40)\n",
        "arr"
      ],
      "execution_count": 40,
      "outputs": [
        {
          "output_type": "execute_result",
          "data": {
            "text/plain": [
              "array([ 31, 131, 129,  34, 135,  26,  59,  68, 121, 134, 109,  46, 129,\n",
              "        82,  34,  48,  70,  24,  87, 124, 142, 120, 124,  43,  51,   2,\n",
              "        65, 108,  17,   7,  25,  51,  91,   9,  44,   8, 107, 105, 103,\n",
              "        67])"
            ]
          },
          "metadata": {
            "tags": []
          },
          "execution_count": 40
        }
      ]
    },
    {
      "cell_type": "code",
      "metadata": {
        "id": "VF20VM8dUWwQ",
        "outputId": "9ffa536b-b15c-4b26-db80-06be72b24659",
        "colab": {
          "base_uri": "https://localhost:8080/"
        }
      },
      "source": [
        "arr.reshape(4,10)"
      ],
      "execution_count": 41,
      "outputs": [
        {
          "output_type": "execute_result",
          "data": {
            "text/plain": [
              "array([[ 31, 131, 129,  34, 135,  26,  59,  68, 121, 134],\n",
              "       [109,  46, 129,  82,  34,  48,  70,  24,  87, 124],\n",
              "       [142, 120, 124,  43,  51,   2,  65, 108,  17,   7],\n",
              "       [ 25,  51,  91,   9,  44,   8, 107, 105, 103,  67]])"
            ]
          },
          "metadata": {
            "tags": []
          },
          "execution_count": 41
        }
      ]
    },
    {
      "cell_type": "code",
      "metadata": {
        "id": "6qiRng8BUW0-",
        "outputId": "42854597-ecb8-47c3-c345-32bf98e2d122",
        "colab": {
          "base_uri": "https://localhost:8080/"
        }
      },
      "source": [
        "arr.max()"
      ],
      "execution_count": 42,
      "outputs": [
        {
          "output_type": "execute_result",
          "data": {
            "text/plain": [
              "142"
            ]
          },
          "metadata": {
            "tags": []
          },
          "execution_count": 42
        }
      ]
    },
    {
      "cell_type": "code",
      "metadata": {
        "id": "ljtDjMttUdzg",
        "outputId": "e31678df-0105-4430-e2f5-c370ca272f9f",
        "colab": {
          "base_uri": "https://localhost:8080/"
        }
      },
      "source": [
        "arr.argmax()"
      ],
      "execution_count": 43,
      "outputs": [
        {
          "output_type": "execute_result",
          "data": {
            "text/plain": [
              "20"
            ]
          },
          "metadata": {
            "tags": []
          },
          "execution_count": 43
        }
      ]
    },
    {
      "cell_type": "code",
      "metadata": {
        "id": "y4yMLMEyUd16",
        "outputId": "52337c10-f149-4200-9a32-1a579d4b918c",
        "colab": {
          "base_uri": "https://localhost:8080/"
        }
      },
      "source": [
        "arr.min()"
      ],
      "execution_count": 44,
      "outputs": [
        {
          "output_type": "execute_result",
          "data": {
            "text/plain": [
              "2"
            ]
          },
          "metadata": {
            "tags": []
          },
          "execution_count": 44
        }
      ]
    },
    {
      "cell_type": "code",
      "metadata": {
        "id": "G0wkKfQ3Ukro",
        "outputId": "15ff5082-d97f-4a9d-89ae-8ca856ad688b",
        "colab": {
          "base_uri": "https://localhost:8080/"
        }
      },
      "source": [
        "arr.argmin()"
      ],
      "execution_count": 45,
      "outputs": [
        {
          "output_type": "execute_result",
          "data": {
            "text/plain": [
              "25"
            ]
          },
          "metadata": {
            "tags": []
          },
          "execution_count": 45
        }
      ]
    },
    {
      "cell_type": "markdown",
      "metadata": {
        "id": "KJn40oefVDiR"
      },
      "source": [
        "## Attributes"
      ]
    },
    {
      "cell_type": "code",
      "metadata": {
        "id": "FHKkvacdUmRe",
        "outputId": "0c4d213e-71ee-4cfb-f06c-8102b8e74a44",
        "colab": {
          "base_uri": "https://localhost:8080/"
        }
      },
      "source": [
        "arr.shape  # .shape is a attribute"
      ],
      "execution_count": 46,
      "outputs": [
        {
          "output_type": "execute_result",
          "data": {
            "text/plain": [
              "(40,)"
            ]
          },
          "metadata": {
            "tags": []
          },
          "execution_count": 46
        }
      ]
    },
    {
      "cell_type": "code",
      "metadata": {
        "id": "xPNqFcCVUmXp",
        "outputId": "90c808e1-279b-4f3a-f49e-5a75de7c4094",
        "colab": {
          "base_uri": "https://localhost:8080/"
        }
      },
      "source": [
        "arr.dtype"
      ],
      "execution_count": 47,
      "outputs": [
        {
          "output_type": "execute_result",
          "data": {
            "text/plain": [
              "dtype('int64')"
            ]
          },
          "metadata": {
            "tags": []
          },
          "execution_count": 47
        }
      ]
    },
    {
      "cell_type": "code",
      "metadata": {
        "id": "Ct4UxKAkUd4v"
      },
      "source": [
        ""
      ],
      "execution_count": null,
      "outputs": []
    },
    {
      "cell_type": "markdown",
      "metadata": {
        "id": "iIGL9fqUNVzN"
      },
      "source": [
        "\n",
        "Numpy\n",
        "np.array() : cast list into a array, cast a list of list to make a matrix (2d array)\n",
        "np.arange(start,stop,step)\n",
        ".shape\n",
        ".dtype\n",
        "np.zeros((row,col))\n",
        "np.ones((row,col))\n",
        "np.linspace(start,stop,n_points)\n",
        "np.eye(diagonal)\n",
        "np.random.rand(2,2) or (2)  (unif distribution)\n",
        "np.random.randint(min,max,n_points)\n",
        ".reshape()\n",
        ".max()\n",
        ".min()\n",
        "argmax() - index location\n",
        "argmin()\n",
        "argmax() index location of max\n",
        "argmin()\n",
        "slice notation to pickup elements  arr[8]  arr[1:5] arr[:7,4:], arr[:,\n",
        "broadcast - copy and reference of array  .copy()\n",
        "\n",
        "numpy.where(condition[, x, y]) - Return elements chosen from x or y depending on condition\n",
        "np.select()\n",
        "arr_2d[:2,1:]\n",
        "conditional selection  arr>5 (bool arr, used as index selection)  arr[arr>5]\n",
        "math operations with array (+ - * /  **2  )  np.sqrt , np.exp(), np.sin(), np.log()   ufunc on numpy doc"
      ]
    },
    {
      "cell_type": "code",
      "metadata": {
        "id": "ADuv_WcoNbvq"
      },
      "source": [
        ""
      ],
      "execution_count": null,
      "outputs": []
    }
  ]
}