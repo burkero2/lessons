{
  "nbformat": 4,
  "nbformat_minor": 0,
  "metadata": {
    "colab": {
      "name": "Code Institute - Data Practitioner.ipynb",
      "provenance": [],
      "collapsed_sections": [],
      "toc_visible": true
    },
    "kernelspec": {
      "name": "python383jvsc74a57bd0b3ba2566441a7c06988d0923437866b63cedc61552a5af99d1f4fb67d367b25f",
      "display_name": "Python 3.8.3 64-bit ('base': conda)"
    },
    "language_info": {
      "name": "python",
      "version": "3.8.3"
    }
  },
  "cells": [
    {
      "cell_type": "markdown",
      "metadata": {
        "id": "pTnO1pqWPfQW"
      },
      "source": [
        "# NumPy - Lesson 01"
      ]
    },
    {
      "cell_type": "markdown",
      "metadata": {
        "id": "wLC4EZ4FMFFd"
      },
      "source": [
        "## Lesson Objectives\n",
        "* Understand what is a NumPy **array**\n",
        "* Experiment with array **builtin methods**\n",
        "* Use array **methods and attributes**\n",
        "\n",
        "<img src=\"https://raw.githubusercontent.com/numpy/numpy/181f273a59744d58f90f45d953a3285484c72cba/branding/logo/primary/numpylogo.svg\" width=\"25%\" height=\"25%\" />"
      ]
    },
    {
      "cell_type": "markdown",
      "metadata": {
        "id": "EbZ0OArSOiY_"
      },
      "source": [
        "* NumPy is a library for the Python programming language, adding support for large, multi-dimensional arrays and matrices, along with a large collection of high-level mathematical functions to operate on these arrays.\n",
        "* It is a **Linear Algebra** Library and almost all of the libraries used in Data Science rely on NumPy as one of their main building blocks."
      ]
    },
    {
      "cell_type": "markdown",
      "metadata": {
        "id": "ZlzqIHhMNiuh"
      },
      "source": [
        "---"
      ]
    },
    {
      "cell_type": "markdown",
      "metadata": {
        "id": "Nm7owy0jOij0"
      },
      "source": [
        "## Import Package"
      ]
    },
    {
      "cell_type": "markdown",
      "metadata": {
        "id": "tsWK7yHMMLjt"
      },
      "source": [
        "* Colab offers a session with a set of packages already installed. To check which packages are installed type in a code cell **!pip freeze** and run it. In case NumPy is not installed, you may type and run in a code cell **!pip install numpy**\n",
        "* NumPy should be already incluced in this set of packages. You will just need to import it. "
      ]
    },
    {
      "cell_type": "code",
      "metadata": {
        "id": "2qAuVin_OvsR"
      },
      "source": [
        "import numpy as np"
      ],
      "execution_count": null,
      "outputs": []
    },
    {
      "cell_type": "markdown",
      "metadata": {
        "id": "kzizwvnUM035"
      },
      "source": [
        "---"
      ]
    },
    {
      "cell_type": "markdown",
      "metadata": {
        "id": "wMsillcAPQhs"
      },
      "source": [
        "## Array"
      ]
    },
    {
      "cell_type": "markdown",
      "metadata": {
        "id": "zwVYlfccPwl7"
      },
      "source": [
        "* An **array** is the foundation of NumPy, it is defined as a grid of values, either numbers or not. It comes as vector or matrix, where vector is a 1-d array, and matrix is 2-d (or n dimension) array. A matrix can also have have 1 row x 1 column.\n",
        "* An array is **useful** because it helps to organize data. With this structure, elements can easily be sorted or searched.\n",
        "* We can create a 1-d array based on a list:\n"
      ]
    },
    {
      "cell_type": "code",
      "metadata": {
        "id": "lwyxHifeO6mB"
      },
      "source": [
        "my_list = [7,9,88,4621]\n",
        "my_list"
      ],
      "execution_count": null,
      "outputs": []
    },
    {
      "cell_type": "markdown",
      "metadata": {
        "id": "LLlFlGdJrM6F"
      },
      "source": [
        "* To create an array from a list, use **np.array()** and in the argument parse the list\n",
        "* Please note below 1 bracket before the first item. That indicates it is a **1-d array**."
      ]
    },
    {
      "cell_type": "code",
      "metadata": {
        "id": "0VmFvO8ZKEoJ"
      },
      "source": [
        "arr = np.array(my_list)\n",
        "arr"
      ],
      "execution_count": null,
      "outputs": []
    },
    {
      "cell_type": "markdown",
      "metadata": {
        "id": "j0RSQFLadpYs"
      },
      "source": [
        "* Just a side note\n",
        "  * You don't have necessarily to pass the list as a variable at np.array() function, \n",
        "  * You can write the list directly if you prefer, for example: np.array([7,9,88,4621])\n",
        "  * Both will create the same array"
      ]
    },
    {
      "cell_type": "markdown",
      "metadata": {
        "id": "ti7_Hbo0KHMX"
      },
      "source": [
        "* An array can **handle** numbers (integer, float etc), strings (text), timestamps (dates)."
      ]
    },
    {
      "cell_type": "code",
      "metadata": {
        "id": "h5WDb_DkKWcH"
      },
      "source": [
        "my_list = ['text','label_example',55,150,'final_text_example']\n",
        "arr = np.array(my_list)\n",
        "arr"
      ],
      "execution_count": null,
      "outputs": []
    },
    {
      "cell_type": "markdown",
      "metadata": {
        "id": "5UrNzwOtKxLc"
      },
      "source": [
        "* If your list has more than 1 dimension, you can create a **2-d array**, or matrix.\n",
        "* Please note the 2 brackets before the first item. That indicates it is a 2-d array.\n"
      ]
    },
    {
      "cell_type": "code",
      "metadata": {
        "id": "3rNhIZ2CO6sA"
      },
      "source": [
        "my_matrix = [[10,80,77], [99,99,99], [\"this is good\",\"string1\",\"example\"]]\n",
        "my_matrix"
      ],
      "execution_count": null,
      "outputs": []
    },
    {
      "cell_type": "code",
      "metadata": {
        "id": "ByDJVLSnKixL"
      },
      "source": [
        "arr = np.array(my_matrix)\n",
        "arr"
      ],
      "execution_count": null,
      "outputs": []
    },
    {
      "cell_type": "markdown",
      "metadata": {
        "id": "Zu8hFrtMM4gF"
      },
      "source": [
        "---"
      ]
    },
    {
      "cell_type": "markdown",
      "metadata": {
        "id": "g7QkexWcQ636"
      },
      "source": [
        "## Built-in methods to generate arrays"
      ]
    },
    {
      "cell_type": "markdown",
      "metadata": {
        "id": "x0E6RtMxL3Bn"
      },
      "source": [
        "* You can **generate data for your arrays** using built-in methods\n",
        "* You can quickly create an **evenly spaced** array of numbers using np.arange(). \n",
        "    * You may provide 3 arguments: the start, stop and step size of values interval. \n",
        "    * Stop argument is not inclusive. \n",
        "    * Play around with different step to see the effect. You may try and see the effect with step as 0.5, 1, 2, and 5."
      ]
    },
    {
      "cell_type": "code",
      "metadata": {
        "id": "dnzs8bEnO61k"
      },
      "source": [
        "arr = np.arange(start=1,stop=9,step=1)\n",
        "arr"
      ],
      "execution_count": null,
      "outputs": []
    },
    {
      "cell_type": "code",
      "metadata": {
        "id": "Zbg_OIHTsujd"
      },
      "source": [
        "arr = np.arange(start=1,stop=9,step=0.5)\n",
        "arr"
      ],
      "execution_count": null,
      "outputs": []
    },
    {
      "cell_type": "code",
      "metadata": {
        "id": "_tmDVq03suxF"
      },
      "source": [
        "arr = np.arange(start=1,stop=9,step=5)\n",
        "arr"
      ],
      "execution_count": null,
      "outputs": []
    },
    {
      "cell_type": "markdown",
      "metadata": {
        "id": "A9ImxW5lN02B"
      },
      "source": [
        "* You can also create an **array of zeros using np.zeros()**. Just pass the shape of the desired array. The example below has a shape of 2 x 3 and is a 2-d array\n",
        "* Please note the 2 brackets before the first item. That indicates it is a 2-d array."
      ]
    },
    {
      "cell_type": "code",
      "metadata": {
        "id": "bj5y88jxRLZ8"
      },
      "source": [
        "arr = np.zeros((2,3))\n",
        "arr"
      ],
      "execution_count": null,
      "outputs": []
    },
    {
      "cell_type": "markdown",
      "metadata": {
        "id": "N2u5ShAtcV7V"
      },
      "source": [
        "* The example below has shape of 2 x 2 x 3 and is a 3-d array of zeros\n",
        "* Please note the 3 brackets before the first item. That indicates it is a 3-d array."
      ]
    },
    {
      "cell_type": "code",
      "metadata": {
        "id": "ETpwXc0ecTlP"
      },
      "source": [
        "arr = np.zeros((2,2,3))\n",
        "arr"
      ],
      "execution_count": null,
      "outputs": []
    },
    {
      "cell_type": "markdown",
      "metadata": {
        "id": "KG3DptUNOFvQ"
      },
      "source": [
        "* You could also create an **array of all ones using np.ones()**. The example below is a 2-d array, 2 x 5 dimension."
      ]
    },
    {
      "cell_type": "code",
      "metadata": {
        "id": "eF5sBy6JRiG7"
      },
      "source": [
        "arr = np.ones((2,5))\n",
        "arr"
      ],
      "execution_count": null,
      "outputs": []
    },
    {
      "cell_type": "markdown",
      "metadata": {
        "id": "71w9WqAHOHFj"
      },
      "source": [
        "* You can also create **identity matrix using np.eye()**, that is a square matrix that has ones along its main diagonal and zeros everywhere else.\n",
        "* The example below is an identity matrix of shape 4 x 4."
      ]
    },
    {
      "cell_type": "code",
      "metadata": {
        "id": "lsYm6mtIRiJB"
      },
      "source": [
        "arr = np.eye(4)\n",
        "arr"
      ],
      "execution_count": null,
      "outputs": []
    },
    {
      "cell_type": "markdown",
      "metadata": {
        "id": "49JgPM9tOIDD"
      },
      "source": [
        "* A similar function to np.arange() is **np.linspace()**, but instead of step argument, there is num argument. **Num** is the number of samples that need to be retrieved in that interval. \n",
        "  * You will provide as argument the start, end and **how many points you want in between**. \n",
        "  * Stop argument here is inclusive"
      ]
    },
    {
      "cell_type": "code",
      "metadata": {
        "id": "b95xXY2MRiLa"
      },
      "source": [
        "arr = np.linspace(start=10,stop=50,num=5)\n",
        "arr"
      ],
      "execution_count": null,
      "outputs": []
    },
    {
      "cell_type": "markdown",
      "metadata": {
        "id": "jCzcwt4PtkZo"
      },
      "source": [
        "* If you want 10 numbers even spaced from 10 to 50, you may change num to 10."
      ]
    },
    {
      "cell_type": "code",
      "metadata": {
        "id": "MNkJGHnPtkit"
      },
      "source": [
        "arr = np.linspace(start=10,stop=50,num=10)\n",
        "arr"
      ],
      "execution_count": null,
      "outputs": []
    },
    {
      "cell_type": "markdown",
      "metadata": {
        "id": "mmncc_4gOL_j"
      },
      "source": [
        "* You can also create an array of a given shape with **random values from 0 to 1 using np.random.rand()**\n",
        "    * The arguments are the shape you are interested"
      ]
    },
    {
      "cell_type": "code",
      "metadata": {
        "id": "uCSHbGDkRLcV"
      },
      "source": [
        "arr = np.random.rand(2,2)  # 2-d array\n",
        "arr"
      ],
      "execution_count": null,
      "outputs": []
    },
    {
      "cell_type": "code",
      "metadata": {
        "id": "LQRSSl1f6xyt"
      },
      "source": [
        "arr = np.random.rand(3,4,2) # 3-d array\n",
        "arr"
      ],
      "execution_count": null,
      "outputs": []
    },
    {
      "cell_type": "markdown",
      "metadata": {
        "id": "CqJ5nrNtL0jy"
      },
      "source": [
        "* You can also create an array of given shape from a **\"standard normal\" distribution using random.randn()**\n",
        "  * The argument is the shape you are interested\n",
        "  * A standard normal distribution is a normal distribution with a mean of zero and standard deviation of 1. We will get back to that in future sections of the course"
      ]
    },
    {
      "cell_type": "code",
      "metadata": {
        "id": "AisYzY7hL02p"
      },
      "source": [
        "arr = np.random.randn(8,2) # 2-d array with 8 rows and 2 columns\n",
        "arr"
      ],
      "execution_count": null,
      "outputs": []
    },
    {
      "cell_type": "code",
      "metadata": {
        "id": "BZyxThBiNWlp"
      },
      "source": [
        "arr = np.random.randn(25) # 1-d array with 25 elements\n",
        "arr"
      ],
      "execution_count": null,
      "outputs": []
    },
    {
      "cell_type": "markdown",
      "metadata": {
        "id": "mA4D03flOOC4"
      },
      "source": [
        "* You can also create random integers setting the interval and size using **np.random.randint()**\n",
        "  * The arguments for interval are: low (inclusive) and high (exclusive). Size is the output shape, it can be an integer or tuple."
      ]
    },
    {
      "cell_type": "code",
      "metadata": {
        "id": "phE3IexNRLei"
      },
      "source": [
        "arr = np.random.randint(low=10,high=50,size=5) # 1-d array, 5 elements\n",
        "arr "
      ],
      "execution_count": null,
      "outputs": []
    },
    {
      "cell_type": "code",
      "metadata": {
        "id": "7bmjwPSp8Eiu"
      },
      "source": [
        "arr = np.random.randint(low=250,high=888,size=(4,3)) # 2-d array, 4 rows x 3 columns\n",
        "arr "
      ],
      "execution_count": null,
      "outputs": []
    },
    {
      "cell_type": "markdown",
      "metadata": {
        "id": "NRCDJuAPLnQf"
      },
      "source": [
        "---"
      ]
    },
    {
      "cell_type": "markdown",
      "metadata": {
        "id": "acgSZydF-ZiH"
      },
      "source": [
        "* You may be interested to generate \"constant\" random values\n",
        "  * **Run the example below multiple times**\n",
        "  * **Note that the random values will change**"
      ]
    },
    {
      "cell_type": "code",
      "metadata": {
        "id": "xFcW6u9d-aWZ"
      },
      "source": [
        "arr = np.random.randint(low=10,high=50,size=5)\n",
        "arr"
      ],
      "execution_count": null,
      "outputs": []
    },
    {
      "cell_type": "markdown",
      "metadata": {
        "id": "vI-MmNAG_CAg"
      },
      "source": [
        "* You need to set **numpy seed** in order to get constant random values\n",
        "  * In a jupyter notebook code cell, you just have to add **np.seed()** before defining your array(s)\n",
        "  * The argument is seed, a integer. You can set any integer\n",
        "  * **Run multiple times the cell below and note the array values will be random and the same**"
      ]
    },
    {
      "cell_type": "code",
      "metadata": {
        "id": "Rk1muz11_DSc"
      },
      "source": [
        "np.random.seed(seed=123)\n",
        "arr = np.random.randint(low=10,high=50,size=5)\n",
        "arr"
      ],
      "execution_count": null,
      "outputs": []
    },
    {
      "cell_type": "markdown",
      "metadata": {
        "id": "UVI47-ZFM50L"
      },
      "source": [
        "---"
      ]
    },
    {
      "cell_type": "markdown",
      "metadata": {
        "id": "weQiuBcJUEaF"
      },
      "source": [
        "## Array Methods"
      ]
    },
    {
      "cell_type": "markdown",
      "metadata": {
        "id": "jQxuj7VaOZbf"
      },
      "source": [
        "* You can reshape the array without changing the data within it using  **.reshape()** method.\n",
        "  * the example below shows a 1-d array, with 40 elements. "
      ]
    },
    {
      "cell_type": "code",
      "metadata": {
        "id": "b9cjED2-UDg0"
      },
      "source": [
        "np.random.seed(seed=0)\n",
        "arr = np.random.randint(low=1,high=150,size=40)\n",
        "arr"
      ],
      "execution_count": null,
      "outputs": []
    },
    {
      "cell_type": "markdown",
      "metadata": {
        "id": "FbcqGgyq80II"
      },
      "source": [
        "* You can reshape as 4 rows x 10 columns, transforming into a 2-d array\n",
        "  * the argument is the shape you are interested"
      ]
    },
    {
      "cell_type": "code",
      "metadata": {
        "id": "VF20VM8dUWwQ"
      },
      "source": [
        "arr = arr.reshape(4,10)  # 2-d array, 4 x 10\n",
        "arr"
      ],
      "execution_count": null,
      "outputs": []
    },
    {
      "cell_type": "code",
      "metadata": {
        "id": "ED1EE-soahC1"
      },
      "source": [
        "arr.reshape(1,-1) #####"
      ],
      "execution_count": null,
      "outputs": []
    },
    {
      "cell_type": "markdown",
      "metadata": {
        "id": "7T4XVnJQXfSL"
      },
      "source": [
        "* There can be an opposite situation where you have a multidimensional array and want to transform to a 1-d array. You can use **flatten()** for it\n",
        "* Consdider a 2-d array"
      ]
    },
    {
      "cell_type": "code",
      "metadata": {
        "id": "NWjz_M74Xgk5"
      },
      "source": [
        "np.random.seed(seed=0)\n",
        "arr = np.random.randint(low=1,high=150,size=(2,5))\n",
        "arr"
      ],
      "execution_count": null,
      "outputs": []
    },
    {
      "cell_type": "markdown",
      "metadata": {
        "id": "zj-NAucHvbub"
      },
      "source": [
        "* You can flatten, you will noticed it became a 1-d array"
      ]
    },
    {
      "cell_type": "code",
      "metadata": {
        "id": "ec5twcgOXrQO"
      },
      "source": [
        "arr_flatten = arr.flatten()\n",
        "arr_flatten"
      ],
      "execution_count": null,
      "outputs": []
    },
    {
      "cell_type": "markdown",
      "metadata": {
        "id": "tRY8e5mGvyCy"
      },
      "source": [
        "* Alternatively, you can get the same effect using **.reshape()**, with argument as -2"
      ]
    },
    {
      "cell_type": "code",
      "metadata": {
        "id": "eK2VZ7CjZ1t-"
      },
      "source": [
        "arr_reshape = arr.reshape(-1)\n",
        "arr_reshape"
      ],
      "execution_count": null,
      "outputs": []
    },
    {
      "cell_type": "markdown",
      "metadata": {
        "id": "nQ2vz61PZki0"
      },
      "source": [
        "---"
      ]
    },
    {
      "cell_type": "markdown",
      "metadata": {
        "id": "4hsNlNT29TGd"
      },
      "source": [
        "* Min and Max values can be acessed using .min() and .max() methods."
      ]
    },
    {
      "cell_type": "code",
      "metadata": {
        "id": "6qiRng8BUW0-"
      },
      "source": [
        "arr.max()"
      ],
      "execution_count": null,
      "outputs": []
    },
    {
      "cell_type": "code",
      "metadata": {
        "id": "y4yMLMEyUd16"
      },
      "source": [
        "arr.min()"
      ],
      "execution_count": null,
      "outputs": []
    },
    {
      "cell_type": "markdown",
      "metadata": {
        "id": "MVeYO5nI9hK5"
      },
      "source": [
        "* You can determine the index position of the minimum or maximum value in the darray along a particular axis using the argmin() and argmax() methods"
      ]
    },
    {
      "cell_type": "code",
      "metadata": {
        "id": "ljtDjMttUdzg"
      },
      "source": [
        "arr.argmax()"
      ],
      "execution_count": null,
      "outputs": []
    },
    {
      "cell_type": "code",
      "metadata": {
        "id": "G0wkKfQ3Ukro"
      },
      "source": [
        "arr.argmin()"
      ],
      "execution_count": null,
      "outputs": []
    },
    {
      "cell_type": "markdown",
      "metadata": {
        "id": "fm6EAXMkM6kx"
      },
      "source": [
        "---"
      ]
    },
    {
      "cell_type": "markdown",
      "metadata": {
        "id": "KJn40oefVDiR"
      },
      "source": [
        "## Array Attributes"
      ]
    },
    {
      "cell_type": "markdown",
      "metadata": {
        "id": "Fb6PMRHCWoCX"
      },
      "source": [
        "*  You can check the shape and type of a NumPy array using, respectively, the attributes **.shape** and **.dtype**\n",
        "* Consider a 2-d array (5x2) made using arange()"
      ]
    },
    {
      "cell_type": "code",
      "metadata": {
        "id": "ryyQ3pRFWsms"
      },
      "source": [
        "arr = np.arange(start=1,stop=11,step=1).reshape(5,2)"
      ],
      "execution_count": null,
      "outputs": []
    },
    {
      "cell_type": "markdown",
      "metadata": {
        "id": "4CSHqR95wMrK"
      },
      "source": [
        "* You can check its shape and dtype"
      ]
    },
    {
      "cell_type": "code",
      "metadata": {
        "id": "Qsx4CmUTwMz3"
      },
      "source": [
        "print(\n",
        "    f\"* Array:\\n {arr} \\n\\n\"\n",
        "    f\"* Array shape: \\n {arr.shape} \\n\\n\"\n",
        "    f\"* Array type: \\n {arr.dtype}\"\n",
        "    )"
      ],
      "execution_count": null,
      "outputs": []
    },
    {
      "cell_type": "markdown",
      "metadata": {
        "id": "SSuVnDJDM7Qu"
      },
      "source": [
        "---"
      ]
    },
    {
      "cell_type": "markdown",
      "metadata": {
        "id": "WzhIShV6kPo9"
      },
      "source": [
        "## Challenges"
      ]
    },
    {
      "cell_type": "markdown",
      "metadata": {
        "id": "WMQ_Z_pRr5aw"
      },
      "source": [
        "* Instruct the student that these challenges will be unit tested?\n",
        "* What to consider to write not so easy and not so hard challenges?"
      ]
    },
    {
      "cell_type": "markdown",
      "metadata": {
        "id": "YoJLUJ5ANoxI"
      },
      "source": [
        "### 1"
      ]
    },
    {
      "cell_type": "markdown",
      "metadata": {
        "id": "Ksvs2USUkZHD"
      },
      "source": [
        "* Define the numpy seed=1.\n",
        "* In a variable called **arr**, Create a 2-d array, 4 x 4, with random integers, where the lowest value is 1 and the max 100 (inclusive).\n",
        "* In a print() statement, display the array"
      ]
    },
    {
      "cell_type": "code",
      "metadata": {
        "id": "VFh7V4mfwV_c"
      },
      "source": [
        "# Place here your code\n",
        "\n",
        "\n"
      ],
      "execution_count": null,
      "outputs": []
    },
    {
      "cell_type": "code",
      "metadata": {
        "id": "3gsDPEeoOni0"
      },
      "source": [
        "np.random.seed(seed=1)\n",
        "arr = np.random.randint(low=1,high=101,size=(4,4))\n",
        "print(arr)"
      ],
      "execution_count": null,
      "outputs": []
    },
    {
      "cell_type": "markdown",
      "metadata": {
        "id": "bJqYkGbNNt6G"
      },
      "source": [
        "### 2"
      ]
    },
    {
      "cell_type": "markdown",
      "metadata": {
        "id": "IsCn32iHmWmu"
      },
      "source": [
        "* Using your NumPy knowledge, and python knowledge with print statment function and displaying variables using f-string, create the following statement:\n",
        "  * **\"The max value for the array is 80 and its index location is 6. The min value for the array is 2 and its index location is 9.\"**"
      ]
    },
    {
      "cell_type": "code",
      "metadata": {
        "id": "GjayFYLqwX76"
      },
      "source": [
        "# Place here your code\n",
        "\n",
        "\n"
      ],
      "execution_count": null,
      "outputs": []
    },
    {
      "cell_type": "code",
      "metadata": {
        "id": "gPVwbYdKkW0O"
      },
      "source": [
        "print(\n",
        "    f\"The max value for the array is {arr.max()} and its index location is {arr.argmax()}. \"\n",
        "    f\"The min value for the array is {arr.min()} and its index location is {arr.argmin()}.\"\n",
        "    )"
      ],
      "execution_count": null,
      "outputs": []
    },
    {
      "cell_type": "markdown",
      "metadata": {
        "id": "bL1DRo6BM8BU"
      },
      "source": [
        "---"
      ]
    },
    {
      "cell_type": "markdown",
      "metadata": {
        "id": "rn519h42wg_-"
      },
      "source": [
        "## Well done! Proceed to the next lesson!\n",
        "\n"
      ]
    },
    {
      "cell_type": "markdown",
      "metadata": {
        "id": "VXE_sZuHw9R6"
      },
      "source": [
        "<img src=\"https://www.learningpeople.com/static/1e2d1b1046220ce9fa0222b5790b86bc/b3853/code-institute.png\" width=\"20%\" height=\"20%\" />"
      ]
    }
  ]
}