{
  "nbformat": 4,
  "nbformat_minor": 0,
  "metadata": {
    "colab": {
      "name": "Code Institute - Data Practitioner.ipynb",
      "provenance": [],
      "collapsed_sections": [],
      "toc_visible": true
    },
    "kernelspec": {
      "name": "python383jvsc74a57bd0b3ba2566441a7c06988d0923437866b63cedc61552a5af99d1f4fb67d367b25f",
      "display_name": "Python 3.8.3 64-bit ('base': conda)"
    },
    "language_info": {
      "name": "python",
      "version": "3.8.3"
    }
  },
  "cells": [
    {
      "cell_type": "markdown",
      "metadata": {
        "id": "pTnO1pqWPfQW"
      },
      "source": [
        "# Lesson 01"
      ]
    },
    {
      "cell_type": "markdown",
      "metadata": {
        "id": "wLC4EZ4FMFFd"
      },
      "source": [
        "## Lesson Objectives\n",
        "* Understand what is NumPy and its **importance** for Data Science\n",
        "* Experiment with array **builtin methods**\n",
        "* Use array **methods and attributes**"
      ]
    },
    {
      "cell_type": "markdown",
      "metadata": {
        "id": "kZ0EHLv7OOPa"
      },
      "source": [
        "\n",
        "\n",
        "<img src=\"https://raw.githubusercontent.com/numpy/numpy/181f273a59744d58f90f45d953a3285484c72cba/branding/logo/primary/numpylogo.svg\" width=\"30%\" height=\"30%\" />"
      ]
    },
    {
      "cell_type": "markdown",
      "metadata": {
        "id": "EbZ0OArSOiY_"
      },
      "source": [
        "* NumPy is a library for the Python programming language, adding support for large, multi-dimensional arrays and matrices, along with a large collection of high-level mathematical functions to operate on these arrays.\n",
        "* It is a **Linear Algebra** Library and almost all of the libraries used in Data Science rely on NumPy as one of their main building blocks."
      ]
    },
    {
      "cell_type": "markdown",
      "metadata": {
        "id": "Nm7owy0jOij0"
      },
      "source": [
        "## Import Package"
      ]
    },
    {
      "cell_type": "markdown",
      "metadata": {
        "id": "tsWK7yHMMLjt"
      },
      "source": [
        "* Colab offers a session with a set of packages already installed. To check which packages are installed type in a code cell **!pip freeze** and run it. In case NumPy is not installed, you may type and run in a code cell **!pip install numpy**\n",
        "* NumPy should be already incluced in this set of packages. You will just need to import it."
      ]
    },
    {
      "cell_type": "code",
      "metadata": {
        "id": "2qAuVin_OvsR"
      },
      "source": [
        "import numpy as np"
      ],
      "execution_count": 3,
      "outputs": []
    },
    {
      "cell_type": "markdown",
      "metadata": {
        "id": "wMsillcAPQhs"
      },
      "source": [
        "## Array"
      ]
    },
    {
      "cell_type": "markdown",
      "metadata": {
        "id": "zwVYlfccPwl7"
      },
      "source": [
        "* An **array** is the foundation of NumPy and come as vector or matrix, where vector is a 1-d array, and matrix is 2-d (or more) array. A matrix can also have have 1 row x 1 column.\n",
        "* We can create a 1-d array based on a list:\n"
      ]
    },
    {
      "cell_type": "code",
      "metadata": {
        "id": "lwyxHifeO6mB",
        "outputId": "ba57ecf4-ba84-4194-85d5-55ba2bf02c0a",
        "colab": {
          "base_uri": "https://localhost:8080/"
        }
      },
      "source": [
        "my_list = [7,9,88,4621]\n",
        "my_list"
      ],
      "execution_count": 72,
      "outputs": [
        {
          "output_type": "execute_result",
          "data": {
            "text/plain": [
              "[7, 9, 88, 4621]"
            ]
          },
          "metadata": {
            "tags": []
          },
          "execution_count": 72
        }
      ]
    },
    {
      "cell_type": "code",
      "metadata": {
        "id": "0VmFvO8ZKEoJ",
        "outputId": "f3fc148b-5e16-4a13-a328-e457dfbbae13",
        "colab": {
          "base_uri": "https://localhost:8080/"
        }
      },
      "source": [
        "arr = np.array(my_list)\n",
        "arr\n",
        "\n",
        "# you don't have necessarily to pass the list as a variable for np.array(), \n",
        "# you can write directly if you prefer: np.array([7,9,88,4621])"
      ],
      "execution_count": 73,
      "outputs": [
        {
          "output_type": "execute_result",
          "data": {
            "text/plain": [
              "array([   7,    9,   88, 4621])"
            ]
          },
          "metadata": {
            "tags": []
          },
          "execution_count": 73
        }
      ]
    },
    {
      "cell_type": "markdown",
      "metadata": {
        "id": "ti7_Hbo0KHMX"
      },
      "source": [
        "* The array can handle numbers, categories or both"
      ]
    },
    {
      "cell_type": "code",
      "metadata": {
        "id": "h5WDb_DkKWcH",
        "outputId": "295619d9-2d17-4980-920f-b68f28c9b602",
        "colab": {
          "base_uri": "https://localhost:8080/"
        }
      },
      "source": [
        "my_list = ['text','label_example',55,150,'final_text_example']\n",
        "arr = np.array(my_list)\n",
        "arr"
      ],
      "execution_count": 81,
      "outputs": [
        {
          "output_type": "execute_result",
          "data": {
            "text/plain": [
              "array(['text', 'label_example', '55', '150', 'final_text_example'],\n",
              "      dtype='<U18')"
            ]
          },
          "metadata": {
            "tags": []
          },
          "execution_count": 81
        }
      ]
    },
    {
      "cell_type": "markdown",
      "metadata": {
        "id": "5UrNzwOtKxLc"
      },
      "source": [
        "* If your list has more than 1 dimension, you can create a 2-d array, or matrix"
      ]
    },
    {
      "cell_type": "code",
      "metadata": {
        "id": "3rNhIZ2CO6sA",
        "outputId": "0c082135-96d8-4664-bfb3-777cf6c695fb",
        "colab": {
          "base_uri": "https://localhost:8080/"
        }
      },
      "source": [
        "my_matrix = [[10,80,77],[99,99,99],[0.5,0.6,0.75]]\n",
        "arr = np.array(my_matrix)\n",
        "arr"
      ],
      "execution_count": 82,
      "outputs": [
        {
          "output_type": "execute_result",
          "data": {
            "text/plain": [
              "array([[10.  , 80.  , 77.  ],\n",
              "       [99.  , 99.  , 99.  ],\n",
              "       [ 0.5 ,  0.6 ,  0.75]])"
            ]
          },
          "metadata": {
            "tags": []
          },
          "execution_count": 82
        }
      ]
    },
    {
      "cell_type": "markdown",
      "metadata": {
        "id": "g7QkexWcQ636"
      },
      "source": [
        "## Built in methods to generate arrays"
      ]
    },
    {
      "cell_type": "markdown",
      "metadata": {
        "id": "x0E6RtMxL3Bn"
      },
      "source": [
        "* You can generate data for your arrays using builtin methods"
      ]
    },
    {
      "cell_type": "code",
      "metadata": {
        "id": "dnzs8bEnO61k"
      },
      "source": [
        "arr = np.arange(start=1,stop=9,step=1)\n",
        "arr"
      ],
      "execution_count": null,
      "outputs": []
    },
    {
      "cell_type": "markdown",
      "metadata": {
        "id": "A9ImxW5lN02B"
      },
      "source": [
        "* Text explaining something"
      ]
    },
    {
      "cell_type": "code",
      "metadata": {
        "id": "bj5y88jxRLZ8"
      },
      "source": [
        "arr = np.zeros((3,5))\n",
        "arr"
      ],
      "execution_count": null,
      "outputs": []
    },
    {
      "cell_type": "markdown",
      "metadata": {
        "id": "KG3DptUNOFvQ"
      },
      "source": [
        "* Text explaining something"
      ]
    },
    {
      "cell_type": "code",
      "metadata": {
        "id": "eF5sBy6JRiG7"
      },
      "source": [
        "arr = np.ones((2,5))\n",
        "arr"
      ],
      "execution_count": null,
      "outputs": []
    },
    {
      "cell_type": "markdown",
      "metadata": {
        "id": "71w9WqAHOHFj"
      },
      "source": [
        "* Text explaining something"
      ]
    },
    {
      "cell_type": "code",
      "metadata": {
        "id": "lsYm6mtIRiJB"
      },
      "source": [
        "arr = np.eye(5)\n",
        "arr"
      ],
      "execution_count": null,
      "outputs": []
    },
    {
      "cell_type": "markdown",
      "metadata": {
        "id": "49JgPM9tOIDD"
      },
      "source": [
        "* Text explaining something"
      ]
    },
    {
      "cell_type": "code",
      "metadata": {
        "id": "b95xXY2MRiLa"
      },
      "source": [
        "arr = np.linspace(start=1,stop=50,num=40)\n",
        "arr"
      ],
      "execution_count": null,
      "outputs": []
    },
    {
      "cell_type": "markdown",
      "metadata": {
        "id": "mmncc_4gOL_j"
      },
      "source": [
        "* Text explaining something"
      ]
    },
    {
      "cell_type": "code",
      "metadata": {
        "id": "uCSHbGDkRLcV"
      },
      "source": [
        "arr = np.random.rand(2,2)\n",
        "arr"
      ],
      "execution_count": null,
      "outputs": []
    },
    {
      "cell_type": "markdown",
      "metadata": {
        "id": "mA4D03flOOC4"
      },
      "source": [
        "* Text explaining something"
      ]
    },
    {
      "cell_type": "code",
      "metadata": {
        "id": "phE3IexNRLei",
        "outputId": "306a99ae-32fe-40b3-c9f7-48638e16941b",
        "colab": {
          "base_uri": "https://localhost:8080/"
        }
      },
      "source": [
        "arr = np.random.randint(low=10,high=50,size=5)\n",
        "arr "
      ],
      "execution_count": 61,
      "outputs": [
        {
          "output_type": "execute_result",
          "data": {
            "text/plain": [
              "array([35, 20, 11, 31, 35])"
            ]
          },
          "metadata": {
            "tags": []
          },
          "execution_count": 61
        }
      ]
    },
    {
      "cell_type": "markdown",
      "metadata": {
        "id": "b_eHX9fWOPGZ"
      },
      "source": [
        "* Text explaining something"
      ]
    },
    {
      "cell_type": "code",
      "metadata": {
        "id": "IhdW643eG5Ql"
      },
      "source": [
        "np.random.seed(seed=0)"
      ],
      "execution_count": null,
      "outputs": []
    },
    {
      "cell_type": "markdown",
      "metadata": {
        "id": "weQiuBcJUEaF"
      },
      "source": [
        "## Array Methods"
      ]
    },
    {
      "cell_type": "markdown",
      "metadata": {
        "id": "jQxuj7VaOZbf"
      },
      "source": [
        "* Text explaining something"
      ]
    },
    {
      "cell_type": "code",
      "metadata": {
        "id": "b9cjED2-UDg0"
      },
      "source": [
        "arr = np.random.randint(low=1,high=150,size=40)\n",
        "arr"
      ],
      "execution_count": null,
      "outputs": []
    },
    {
      "cell_type": "code",
      "metadata": {
        "id": "VF20VM8dUWwQ"
      },
      "source": [
        "arr.reshape(4,10)"
      ],
      "execution_count": null,
      "outputs": []
    },
    {
      "cell_type": "code",
      "metadata": {
        "id": "6qiRng8BUW0-"
      },
      "source": [
        "arr.max()"
      ],
      "execution_count": null,
      "outputs": []
    },
    {
      "cell_type": "code",
      "metadata": {
        "id": "ljtDjMttUdzg"
      },
      "source": [
        "arr.argmax()"
      ],
      "execution_count": null,
      "outputs": []
    },
    {
      "cell_type": "code",
      "metadata": {
        "id": "y4yMLMEyUd16"
      },
      "source": [
        "arr.min()"
      ],
      "execution_count": null,
      "outputs": []
    },
    {
      "cell_type": "code",
      "metadata": {
        "id": "G0wkKfQ3Ukro"
      },
      "source": [
        "arr.argmin()"
      ],
      "execution_count": null,
      "outputs": []
    },
    {
      "cell_type": "markdown",
      "metadata": {
        "id": "KJn40oefVDiR"
      },
      "source": [
        "## Array Attributes"
      ]
    },
    {
      "cell_type": "code",
      "metadata": {
        "id": "FHKkvacdUmRe"
      },
      "source": [
        "arr.shape  # .shape is a attribute"
      ],
      "execution_count": null,
      "outputs": []
    },
    {
      "cell_type": "code",
      "metadata": {
        "id": "xPNqFcCVUmXp",
        "outputId": "720e413d-c9db-4ea3-b0fe-edf774ddd842",
        "colab": {
          "base_uri": "https://localhost:8080/"
        }
      },
      "source": [
        "arr.dtype"
      ],
      "execution_count": 84,
      "outputs": [
        {
          "output_type": "execute_result",
          "data": {
            "text/plain": [
              "dtype('float64')"
            ]
          },
          "metadata": {
            "tags": []
          },
          "execution_count": 84
        }
      ]
    },
    {
      "cell_type": "code",
      "metadata": {
        "id": "3gsDPEeoOni0"
      },
      "source": [
        ""
      ],
      "execution_count": null,
      "outputs": []
    },
    {
      "cell_type": "markdown",
      "metadata": {
        "id": "zJvmit2KPXMx"
      },
      "source": [
        "# Lesson 02"
      ]
    },
    {
      "cell_type": "markdown",
      "metadata": {
        "id": "r1FCBh56MY-Q"
      },
      "source": [
        "## Lesson Objectives\n",
        "* xxxx\n",
        "* xxxx\n",
        "* xxxx"
      ]
    },
    {
      "cell_type": "markdown",
      "metadata": {
        "id": "RhaANRQHJs_A"
      },
      "source": [
        "## Import Package"
      ]
    },
    {
      "cell_type": "markdown",
      "metadata": {
        "id": "z0e7IChDJs_H"
      },
      "source": [
        "* Colab offers a session with a set of packages already installed. To check which packages are installed type in a code cell **!pip freeze** and run it. In case NumPy is not installed, you may type and run in a code cell **!pip install numpy**\n",
        "* NumPy should be already incluced in this set of packages. You will just need to import it."
      ]
    },
    {
      "cell_type": "code",
      "metadata": {
        "id": "-6mTWe4eJs_I"
      },
      "source": [
        "import numpy as np"
      ],
      "execution_count": null,
      "outputs": []
    },
    {
      "cell_type": "markdown",
      "metadata": {
        "id": "GDssTE1OPuRi"
      },
      "source": [
        "## Array Indexing and Selecting"
      ]
    },
    {
      "cell_type": "code",
      "metadata": {
        "id": "Ct4UxKAkUd4v",
        "colab": {
          "base_uri": "https://localhost:8080/"
        },
        "outputId": "d299b28b-2458-4274-fdf5-8620e52edcc1"
      },
      "source": [
        "#Creating sample array\n",
        "arr = arr = np.arange(0,21,2)\n",
        "arr "
      ],
      "execution_count": null,
      "outputs": [
        {
          "output_type": "execute_result",
          "data": {
            "text/plain": [
              "array([ 0,  2,  4,  6,  8, 10, 12, 14, 16, 18, 20])"
            ]
          },
          "metadata": {
            "tags": []
          },
          "execution_count": 11
        }
      ]
    },
    {
      "cell_type": "code",
      "metadata": {
        "id": "ADuv_WcoNbvq",
        "colab": {
          "base_uri": "https://localhost:8080/"
        },
        "outputId": "e4701f9f-0101-4b8e-e93f-e5f64e3db9b8"
      },
      "source": [
        "#Get a value at an index\n",
        "arr[8]"
      ],
      "execution_count": null,
      "outputs": [
        {
          "output_type": "execute_result",
          "data": {
            "text/plain": [
              "16"
            ]
          },
          "metadata": {
            "tags": []
          },
          "execution_count": 12
        }
      ]
    },
    {
      "cell_type": "code",
      "metadata": {
        "id": "5drf2T8OQPrZ",
        "colab": {
          "base_uri": "https://localhost:8080/"
        },
        "outputId": "29f1a353-501e-4001-af3c-1d72a997d504"
      },
      "source": [
        "#Get values in a range\n",
        "arr[1:5]"
      ],
      "execution_count": null,
      "outputs": [
        {
          "output_type": "execute_result",
          "data": {
            "text/plain": [
              "array([2, 4, 6, 8])"
            ]
          },
          "metadata": {
            "tags": []
          },
          "execution_count": 13
        }
      ]
    },
    {
      "cell_type": "code",
      "metadata": {
        "id": "N6P8T3teQRne",
        "colab": {
          "base_uri": "https://localhost:8080/"
        },
        "outputId": "56c728b7-16fc-44d6-d53f-fd065cf16887"
      },
      "source": [
        "#Get values in a range\n",
        "arr[:5]"
      ],
      "execution_count": null,
      "outputs": [
        {
          "output_type": "execute_result",
          "data": {
            "text/plain": [
              "array([0, 2, 4, 6, 8])"
            ]
          },
          "metadata": {
            "tags": []
          },
          "execution_count": 14
        }
      ]
    },
    {
      "cell_type": "code",
      "metadata": {
        "id": "bxz3kY9zQV7m",
        "colab": {
          "base_uri": "https://localhost:8080/"
        },
        "outputId": "82e8d613-f203-4e49-84c4-ebd2d95b13a0"
      },
      "source": [
        "#Get values in a range\n",
        "arr[1:]"
      ],
      "execution_count": null,
      "outputs": [
        {
          "output_type": "execute_result",
          "data": {
            "text/plain": [
              "array([ 2,  4,  6,  8, 10, 12, 14, 16, 18, 20])"
            ]
          },
          "metadata": {
            "tags": []
          },
          "execution_count": 16
        }
      ]
    },
    {
      "cell_type": "code",
      "metadata": {
        "id": "v72HzSbGRd2B",
        "colab": {
          "base_uri": "https://localhost:8080/"
        },
        "outputId": "17f6034d-bbe7-4bbd-ad47-77eb21411b8b"
      },
      "source": [
        "#Get values in a range\n",
        "arr[:]"
      ],
      "execution_count": null,
      "outputs": [
        {
          "output_type": "execute_result",
          "data": {
            "text/plain": [
              "array([ 0,  2,  4,  6,  8, 10, 12, 14, 16, 18, 20])"
            ]
          },
          "metadata": {
            "tags": []
          },
          "execution_count": 20
        }
      ]
    },
    {
      "cell_type": "markdown",
      "metadata": {
        "id": "fbvVjudOQseD"
      },
      "source": [
        "## Broadcast"
      ]
    },
    {
      "cell_type": "code",
      "metadata": {
        "id": "Z4QOjOFsQz8U",
        "colab": {
          "base_uri": "https://localhost:8080/"
        },
        "outputId": "23cbe8c3-b6b0-4408-dd9b-88bb7b4fb564"
      },
      "source": [
        "arr = np.arange(0,21,2)\n",
        "slice_of_arr = arr[0:6]\n",
        "slice_of_arr"
      ],
      "execution_count": null,
      "outputs": [
        {
          "output_type": "execute_result",
          "data": {
            "text/plain": [
              "array([ 0,  2,  4,  6,  8, 10])"
            ]
          },
          "metadata": {
            "tags": []
          },
          "execution_count": 22
        }
      ]
    },
    {
      "cell_type": "code",
      "metadata": {
        "id": "he-o7m-LRaVd",
        "colab": {
          "base_uri": "https://localhost:8080/"
        },
        "outputId": "e5c910aa-bbe0-4c61-ca7b-0848df428e1e"
      },
      "source": [
        "#Change Slice\n",
        "slice_of_arr[:]=99\n",
        "\n",
        "#Show Slice again\n",
        "slice_of_arr"
      ],
      "execution_count": null,
      "outputs": [
        {
          "output_type": "execute_result",
          "data": {
            "text/plain": [
              "array([99, 99, 99, 99, 99, 99])"
            ]
          },
          "metadata": {
            "tags": []
          },
          "execution_count": 23
        }
      ]
    },
    {
      "cell_type": "code",
      "metadata": {
        "id": "mEpzVswURlm0",
        "colab": {
          "base_uri": "https://localhost:8080/"
        },
        "outputId": "8697f588-c3ef-4971-9fec-60578c1d41a7"
      },
      "source": [
        "arr # original array change as well!!!!\n",
        "\n",
        "# the data is not copied, it was just a view. It helps to save memory"
      ],
      "execution_count": null,
      "outputs": [
        {
          "output_type": "execute_result",
          "data": {
            "text/plain": [
              "array([99, 99, 99, 99, 99, 99, 12, 14, 16, 18, 20])"
            ]
          },
          "metadata": {
            "tags": []
          },
          "execution_count": 25
        }
      ]
    },
    {
      "cell_type": "code",
      "metadata": {
        "id": "M_SrOi78Rm3e",
        "colab": {
          "base_uri": "https://localhost:8080/"
        },
        "outputId": "80a42d1d-f0a5-46a3-f4c6-af8a1102ad84"
      },
      "source": [
        "# to create a independent slice_of_arr you should\n",
        "arr = arr = np.arange(0,21,2)\n",
        "slice_of_arr = arr[0:6].copy()\n",
        "slice_of_arr\n",
        "\n"
      ],
      "execution_count": null,
      "outputs": [
        {
          "output_type": "execute_result",
          "data": {
            "text/plain": [
              "array([ 0,  2,  4,  6,  8, 10])"
            ]
          },
          "metadata": {
            "tags": []
          },
          "execution_count": 26
        }
      ]
    },
    {
      "cell_type": "code",
      "metadata": {
        "id": "aQhQ30SsSS09",
        "colab": {
          "base_uri": "https://localhost:8080/"
        },
        "outputId": "a733cdad-07de-4b53-ef96-2df1fd5ea469"
      },
      "source": [
        "slice_of_arr[:]=99\n",
        "slice_of_arr  # slice_of_arr was changed"
      ],
      "execution_count": null,
      "outputs": [
        {
          "output_type": "execute_result",
          "data": {
            "text/plain": [
              "array([99, 99, 99, 99, 99, 99])"
            ]
          },
          "metadata": {
            "tags": []
          },
          "execution_count": 27
        }
      ]
    },
    {
      "cell_type": "code",
      "metadata": {
        "id": "8hypqSk0SW3z",
        "colab": {
          "base_uri": "https://localhost:8080/"
        },
        "outputId": "b4ac5ee2-74a8-42b8-e8a7-0571f93baa4c"
      },
      "source": [
        "arr  # original array remains the same"
      ],
      "execution_count": null,
      "outputs": [
        {
          "output_type": "execute_result",
          "data": {
            "text/plain": [
              "array([ 0,  2,  4,  6,  8, 10, 12, 14, 16, 18, 20])"
            ]
          },
          "metadata": {
            "tags": []
          },
          "execution_count": 28
        }
      ]
    },
    {
      "cell_type": "markdown",
      "metadata": {
        "id": "zI_mCs-zSfxg"
      },
      "source": [
        "## Indexing a 2D array"
      ]
    },
    {
      "cell_type": "code",
      "metadata": {
        "id": "7lucwWq-SYlJ",
        "colab": {
          "base_uri": "https://localhost:8080/"
        },
        "outputId": "3f422613-3c25-493c-faf9-3b2932c1d90c"
      },
      "source": [
        "arr = np.random.randint(low=10,high=50,size=15).reshape(3,5)\n",
        "arr"
      ],
      "execution_count": null,
      "outputs": [
        {
          "output_type": "execute_result",
          "data": {
            "text/plain": [
              "array([[40, 22, 40, 47, 21],\n",
              "       [46, 18, 21, 29, 42],\n",
              "       [17, 23, 15, 27, 37]])"
            ]
          },
          "metadata": {
            "tags": []
          },
          "execution_count": 31
        }
      ]
    },
    {
      "cell_type": "code",
      "metadata": {
        "id": "kzpE9Y5BSvL-",
        "colab": {
          "base_uri": "https://localhost:8080/"
        },
        "outputId": "ca797bb0-8600-43f5-c9d9-189df16a39e1"
      },
      "source": [
        "#Indexing row\n",
        "arr[1]"
      ],
      "execution_count": null,
      "outputs": [
        {
          "output_type": "execute_result",
          "data": {
            "text/plain": [
              "array([46, 18, 21, 29, 42])"
            ]
          },
          "metadata": {
            "tags": []
          },
          "execution_count": 32
        }
      ]
    },
    {
      "cell_type": "code",
      "metadata": {
        "id": "7cKAxyItS2pQ",
        "colab": {
          "base_uri": "https://localhost:8080/"
        },
        "outputId": "b3cf370d-d156-4b03-b85b-3e672fb2c3fa"
      },
      "source": [
        "# Getting individual element value\n",
        "arr[1,0]"
      ],
      "execution_count": null,
      "outputs": [
        {
          "output_type": "execute_result",
          "data": {
            "text/plain": [
              "46"
            ]
          },
          "metadata": {
            "tags": []
          },
          "execution_count": 33
        }
      ]
    },
    {
      "cell_type": "code",
      "metadata": {
        "id": "-4Y8tTnIS7Ij",
        "colab": {
          "base_uri": "https://localhost:8080/"
        },
        "outputId": "9d4429a7-9890-4e8a-a453-bed4bece71b2"
      },
      "source": [
        "# 2D array slicing rows and columns\n",
        "arr[:2,1:]"
      ],
      "execution_count": null,
      "outputs": [
        {
          "output_type": "execute_result",
          "data": {
            "text/plain": [
              "array([[22, 40, 47, 21],\n",
              "       [18, 21, 29, 42]])"
            ]
          },
          "metadata": {
            "tags": []
          },
          "execution_count": 34
        }
      ]
    },
    {
      "cell_type": "markdown",
      "metadata": {
        "id": "v2yL5IgqTgZb"
      },
      "source": [
        "## Selecting an array"
      ]
    },
    {
      "cell_type": "code",
      "metadata": {
        "id": "OeFP3E10TD1M",
        "colab": {
          "base_uri": "https://localhost:8080/"
        },
        "outputId": "7d3686ac-ea14-4f03-fdaa-19b812116687"
      },
      "source": [
        "np.random.seed(seed=10)\n",
        "arr = np.random.randint(low=1,high=25,size=15).reshape(3,5)\n",
        "arr"
      ],
      "execution_count": null,
      "outputs": [
        {
          "output_type": "execute_result",
          "data": {
            "text/plain": [
              "array([[10,  5, 16,  1, 18],\n",
              "       [17, 18,  9, 10,  1],\n",
              "       [11,  9, 23,  5, 20]])"
            ]
          },
          "metadata": {
            "tags": []
          },
          "execution_count": 49
        }
      ]
    },
    {
      "cell_type": "code",
      "metadata": {
        "id": "qOipBpaMT4k1",
        "colab": {
          "base_uri": "https://localhost:8080/"
        },
        "outputId": "a5bce869-c1f1-496b-b1b2-228ffa4f6c15"
      },
      "source": [
        "arr > 10"
      ],
      "execution_count": null,
      "outputs": [
        {
          "output_type": "execute_result",
          "data": {
            "text/plain": [
              "array([[False, False,  True, False,  True],\n",
              "       [ True,  True, False, False, False],\n",
              "       [ True, False,  True, False,  True]])"
            ]
          },
          "metadata": {
            "tags": []
          },
          "execution_count": 51
        }
      ]
    },
    {
      "cell_type": "code",
      "metadata": {
        "id": "5GjAczWKUk7T",
        "colab": {
          "base_uri": "https://localhost:8080/"
        },
        "outputId": "7c1a0df7-885f-430b-ea36-18a5eb7dac89"
      },
      "source": [
        "arr[arr>10]"
      ],
      "execution_count": null,
      "outputs": [
        {
          "output_type": "execute_result",
          "data": {
            "text/plain": [
              "array([16, 18, 17, 18, 11, 23, 20])"
            ]
          },
          "metadata": {
            "tags": []
          },
          "execution_count": 52
        }
      ]
    },
    {
      "cell_type": "markdown",
      "metadata": {
        "id": "YMjOPV8eUyy8"
      },
      "source": [
        "# Lesson 03"
      ]
    },
    {
      "cell_type": "markdown",
      "metadata": {
        "id": "CBWv2R0JMaNn"
      },
      "source": [
        "## Lesson Objectives\n",
        "* xxxx\n",
        "* xxxx\n",
        "* xxxx"
      ]
    },
    {
      "cell_type": "markdown",
      "metadata": {
        "id": "2eoV15uiJvCw"
      },
      "source": [
        "## Import Package"
      ]
    },
    {
      "cell_type": "markdown",
      "metadata": {
        "id": "hb92tOVDJvCw"
      },
      "source": [
        "* Colab offers a session with a set of packages already installed. To check which packages are installed type in a code cell **!pip freeze** and run it. In case NumPy is not installed, you may type and run in a code cell **!pip install numpy**\n",
        "* NumPy should be already incluced in this set of packages. You will just need to import it."
      ]
    },
    {
      "cell_type": "code",
      "metadata": {
        "id": "ggw1IWiqJvCx"
      },
      "source": [
        "import numpy as np"
      ],
      "execution_count": null,
      "outputs": []
    },
    {
      "cell_type": "markdown",
      "metadata": {
        "id": "WaSjUGvVVDbj"
      },
      "source": [
        "## Operations"
      ]
    },
    {
      "cell_type": "code",
      "metadata": {
        "id": "ZkHGWZBEUpkb",
        "colab": {
          "base_uri": "https://localhost:8080/"
        },
        "outputId": "893f0fab-44e3-4336-f2a6-ca207252e2a8"
      },
      "source": [
        "arr = np.random.randint(low=-3,high=25,size=15).reshape(3,5)\n",
        "arr"
      ],
      "execution_count": 11,
      "outputs": [
        {
          "output_type": "execute_result",
          "data": {
            "text/plain": [
              "array([[12, 12, -3, 15,  0],\n",
              "       [21, 14, 16, 16, 16],\n",
              "       [11,  4, -3, -2,  6]])"
            ]
          },
          "metadata": {
            "tags": []
          },
          "execution_count": 11
        }
      ]
    },
    {
      "cell_type": "code",
      "metadata": {
        "id": "I8QMvdAAVHjK",
        "outputId": "2f44debd-1577-490b-b779-c471c14298e0",
        "colab": {
          "base_uri": "https://localhost:8080/"
        }
      },
      "source": [
        "arr + arr\n"
      ],
      "execution_count": 7,
      "outputs": [
        {
          "output_type": "execute_result",
          "data": {
            "text/plain": [
              "array([[ 4, 14, 16, 48, 30],\n",
              "       [36, 12, 28, 18, 20],\n",
              "       [42, 40, 34, 40, 12]])"
            ]
          },
          "metadata": {
            "tags": []
          },
          "execution_count": 7
        }
      ]
    },
    {
      "cell_type": "code",
      "metadata": {
        "id": "MNMDJuoEAUwd",
        "outputId": "c65f2f28-f2c5-4080-f872-ca26517e7524",
        "colab": {
          "base_uri": "https://localhost:8080/"
        }
      },
      "source": [
        "arr * arr"
      ],
      "execution_count": 8,
      "outputs": [
        {
          "output_type": "execute_result",
          "data": {
            "text/plain": [
              "array([[  4,  49,  64, 576, 225],\n",
              "       [324,  36, 196,  81, 100],\n",
              "       [441, 400, 289, 400,  36]])"
            ]
          },
          "metadata": {
            "tags": []
          },
          "execution_count": 8
        }
      ]
    },
    {
      "cell_type": "code",
      "metadata": {
        "id": "yggpq1jYAgtm",
        "outputId": "2850628c-e911-4435-f9f8-cbff5e9d7851",
        "colab": {
          "base_uri": "https://localhost:8080/"
        }
      },
      "source": [
        "arr - arr"
      ],
      "execution_count": 9,
      "outputs": [
        {
          "output_type": "execute_result",
          "data": {
            "text/plain": [
              "array([[0, 0, 0, 0, 0],\n",
              "       [0, 0, 0, 0, 0],\n",
              "       [0, 0, 0, 0, 0]])"
            ]
          },
          "metadata": {
            "tags": []
          },
          "execution_count": 9
        }
      ]
    },
    {
      "cell_type": "code",
      "metadata": {
        "id": "PTiLB487AiYZ",
        "outputId": "bf172449-6635-42fc-893f-6524ce12c0f7",
        "colab": {
          "base_uri": "https://localhost:8080/"
        }
      },
      "source": [
        "# Just replaced with nan\n",
        "arr/arr"
      ],
      "execution_count": 12,
      "outputs": [
        {
          "output_type": "stream",
          "text": [
            "/usr/local/lib/python3.7/dist-packages/ipykernel_launcher.py:2: RuntimeWarning: invalid value encountered in true_divide\n",
            "  \n"
          ],
          "name": "stderr"
        },
        {
          "output_type": "execute_result",
          "data": {
            "text/plain": [
              "array([[ 1.,  1.,  1.,  1., nan],\n",
              "       [ 1.,  1.,  1.,  1.,  1.],\n",
              "       [ 1.,  1.,  1.,  1.,  1.]])"
            ]
          },
          "metadata": {
            "tags": []
          },
          "execution_count": 12
        }
      ]
    },
    {
      "cell_type": "code",
      "metadata": {
        "id": "YBKkVRg6AkOV",
        "outputId": "90d5575b-9e48-4767-9577-7ec74661923f",
        "colab": {
          "base_uri": "https://localhost:8080/"
        }
      },
      "source": [
        "1/arr"
      ],
      "execution_count": 13,
      "outputs": [
        {
          "output_type": "stream",
          "text": [
            "/usr/local/lib/python3.7/dist-packages/ipykernel_launcher.py:1: RuntimeWarning: divide by zero encountered in true_divide\n",
            "  \"\"\"Entry point for launching an IPython kernel.\n"
          ],
          "name": "stderr"
        },
        {
          "output_type": "execute_result",
          "data": {
            "text/plain": [
              "array([[ 0.08333333,  0.08333333, -0.33333333,  0.06666667,         inf],\n",
              "       [ 0.04761905,  0.07142857,  0.0625    ,  0.0625    ,  0.0625    ],\n",
              "       [ 0.09090909,  0.25      , -0.33333333, -0.5       ,  0.16666667]])"
            ]
          },
          "metadata": {
            "tags": []
          },
          "execution_count": 13
        }
      ]
    },
    {
      "cell_type": "code",
      "metadata": {
        "id": "-JAnB9h5AqRp",
        "outputId": "42e7a67e-bedc-42ab-aa1c-5e8d6d020b6e",
        "colab": {
          "base_uri": "https://localhost:8080/"
        }
      },
      "source": [
        "arr**3"
      ],
      "execution_count": 14,
      "outputs": [
        {
          "output_type": "execute_result",
          "data": {
            "text/plain": [
              "array([[1728, 1728,  -27, 3375,    0],\n",
              "       [9261, 2744, 4096, 4096, 4096],\n",
              "       [1331,   64,  -27,   -8,  216]])"
            ]
          },
          "metadata": {
            "tags": []
          },
          "execution_count": 14
        }
      ]
    },
    {
      "cell_type": "markdown",
      "metadata": {
        "id": "G45witOfA44n"
      },
      "source": [
        "## Universal Functions"
      ]
    },
    {
      "cell_type": "code",
      "metadata": {
        "id": "jGY02my8AsUg"
      },
      "source": [
        "# https://numpy.org/doc/stable/reference/ufuncs.html"
      ],
      "execution_count": 23,
      "outputs": []
    },
    {
      "cell_type": "code",
      "metadata": {
        "id": "zjc_KcVYCFBo",
        "outputId": "4844499c-2c93-4c5a-8bb8-54d0e5df30bc",
        "colab": {
          "base_uri": "https://localhost:8080/"
        }
      },
      "source": [
        "arr = np.random.randint(low=-3,high=25,size=15).reshape(3,5)\n",
        "arr"
      ],
      "execution_count": 26,
      "outputs": [
        {
          "output_type": "execute_result",
          "data": {
            "text/plain": [
              "array([[ 0,  3, 20,  8, 11],\n",
              "       [15, 24, -3, 11,  0],\n",
              "       [18,  9, 22,  7, 17]])"
            ]
          },
          "metadata": {
            "tags": []
          },
          "execution_count": 26
        }
      ]
    },
    {
      "cell_type": "code",
      "metadata": {
        "id": "6FC61u5WA7sD",
        "outputId": "9a530220-eec8-4eef-9d0b-fd2d01eb9a83",
        "colab": {
          "base_uri": "https://localhost:8080/"
        }
      },
      "source": [
        "np.sqrt(arr)"
      ],
      "execution_count": 16,
      "outputs": [
        {
          "output_type": "stream",
          "text": [
            "/usr/local/lib/python3.7/dist-packages/ipykernel_launcher.py:1: RuntimeWarning: invalid value encountered in sqrt\n",
            "  \"\"\"Entry point for launching an IPython kernel.\n"
          ],
          "name": "stderr"
        },
        {
          "output_type": "execute_result",
          "data": {
            "text/plain": [
              "array([[3.46410162, 3.46410162,        nan, 3.87298335, 0.        ],\n",
              "       [4.58257569, 3.74165739, 4.        , 4.        , 4.        ],\n",
              "       [3.31662479, 2.        ,        nan,        nan, 2.44948974]])"
            ]
          },
          "metadata": {
            "tags": []
          },
          "execution_count": 16
        }
      ]
    },
    {
      "cell_type": "code",
      "metadata": {
        "id": "JO0kRbqlA9gt",
        "outputId": "5ed85c26-11c8-4db2-9564-9a3cec3b8c11",
        "colab": {
          "base_uri": "https://localhost:8080/"
        }
      },
      "source": [
        "np.exp(arr)"
      ],
      "execution_count": 17,
      "outputs": [
        {
          "output_type": "execute_result",
          "data": {
            "text/plain": [
              "array([[1.62754791e+05, 1.62754791e+05, 4.97870684e-02, 3.26901737e+06,\n",
              "        1.00000000e+00],\n",
              "       [1.31881573e+09, 1.20260428e+06, 8.88611052e+06, 8.88611052e+06,\n",
              "        8.88611052e+06],\n",
              "       [5.98741417e+04, 5.45981500e+01, 4.97870684e-02, 1.35335283e-01,\n",
              "        4.03428793e+02]])"
            ]
          },
          "metadata": {
            "tags": []
          },
          "execution_count": 17
        }
      ]
    },
    {
      "cell_type": "code",
      "metadata": {
        "id": "-NfskVMoBBzA",
        "outputId": "c3576136-694b-4cbf-9075-07e41fe7d9eb",
        "colab": {
          "base_uri": "https://localhost:8080/"
        }
      },
      "source": [
        "np.max(arr)"
      ],
      "execution_count": 18,
      "outputs": [
        {
          "output_type": "execute_result",
          "data": {
            "text/plain": [
              "21"
            ]
          },
          "metadata": {
            "tags": []
          },
          "execution_count": 18
        }
      ]
    },
    {
      "cell_type": "code",
      "metadata": {
        "id": "dG3QLFP7BDvn",
        "outputId": "76aeee8e-a444-4c06-8bd7-06e580b04991",
        "colab": {
          "base_uri": "https://localhost:8080/"
        }
      },
      "source": [
        "np.sin(arr)"
      ],
      "execution_count": 19,
      "outputs": [
        {
          "output_type": "execute_result",
          "data": {
            "text/plain": [
              "array([[-0.53657292, -0.53657292, -0.14112001,  0.65028784,  0.        ],\n",
              "       [ 0.83665564,  0.99060736, -0.28790332, -0.28790332, -0.28790332],\n",
              "       [-0.99999021, -0.7568025 , -0.14112001, -0.90929743, -0.2794155 ]])"
            ]
          },
          "metadata": {
            "tags": []
          },
          "execution_count": 19
        }
      ]
    },
    {
      "cell_type": "code",
      "metadata": {
        "id": "NSnXFG-sBFbk",
        "outputId": "49a07bd2-a3c9-4ca3-dd8c-52ccf818b350",
        "colab": {
          "base_uri": "https://localhost:8080/"
        }
      },
      "source": [
        "np.log(arr)"
      ],
      "execution_count": 21,
      "outputs": [
        {
          "output_type": "stream",
          "text": [
            "/usr/local/lib/python3.7/dist-packages/ipykernel_launcher.py:1: RuntimeWarning: divide by zero encountered in log\n",
            "  \"\"\"Entry point for launching an IPython kernel.\n",
            "/usr/local/lib/python3.7/dist-packages/ipykernel_launcher.py:1: RuntimeWarning: invalid value encountered in log\n",
            "  \"\"\"Entry point for launching an IPython kernel.\n"
          ],
          "name": "stderr"
        },
        {
          "output_type": "execute_result",
          "data": {
            "text/plain": [
              "array([[2.48490665, 2.48490665,        nan, 2.7080502 ,       -inf],\n",
              "       [3.04452244, 2.63905733, 2.77258872, 2.77258872, 2.77258872],\n",
              "       [2.39789527, 1.38629436,        nan,        nan, 1.79175947]])"
            ]
          },
          "metadata": {
            "tags": []
          },
          "execution_count": 21
        }
      ]
    },
    {
      "cell_type": "code",
      "metadata": {
        "id": "ty-rntmBCAip",
        "outputId": "c420bed4-620c-4b5b-b100-9e2be16a49c8",
        "colab": {
          "base_uri": "https://localhost:8080/"
        }
      },
      "source": [
        "np.std(arr)"
      ],
      "execution_count": 22,
      "outputs": [
        {
          "output_type": "execute_result",
          "data": {
            "text/plain": [
              "7.737355275975549"
            ]
          },
          "metadata": {
            "tags": []
          },
          "execution_count": 22
        }
      ]
    },
    {
      "cell_type": "markdown",
      "metadata": {
        "id": "cPRX9DUbBIw_"
      },
      "source": [
        "# Lesson 04 - Exercises"
      ]
    },
    {
      "cell_type": "markdown",
      "metadata": {
        "id": "J51oqU4qMdT7"
      },
      "source": [
        "## Lesson Objectives\n",
        "* xxxx\n",
        "* xxxx\n",
        "* xxxx"
      ]
    },
    {
      "cell_type": "markdown",
      "metadata": {
        "id": "kwm9o-fSJwBV"
      },
      "source": [
        "## Import Package"
      ]
    },
    {
      "cell_type": "markdown",
      "metadata": {
        "id": "BzZPRY2QJwBV"
      },
      "source": [
        "* Colab offers a session with a set of packages already installed. To check which packages are installed type in a code cell **!pip freeze** and run it. In case NumPy is not installed, you may type and run in a code cell **!pip install numpy**\n",
        "* NumPy should be already incluced in this set of packages. You will just need to import it."
      ]
    },
    {
      "cell_type": "code",
      "metadata": {
        "id": "pmleehGfJwBW"
      },
      "source": [
        "import numpy as np"
      ],
      "execution_count": null,
      "outputs": []
    },
    {
      "cell_type": "code",
      "metadata": {
        "id": "04Y-nlSYBGxY",
        "outputId": "29d876c6-a77a-4036-f6a9-2bca9b463865",
        "colab": {
          "base_uri": "https://localhost:8080/"
        }
      },
      "source": [
        "#### Create an array of 10 zeros \n",
        "np.zeros(10)"
      ],
      "execution_count": 27,
      "outputs": [
        {
          "output_type": "execute_result",
          "data": {
            "text/plain": [
              "array([0., 0., 0., 0., 0., 0., 0., 0., 0., 0.])"
            ]
          },
          "metadata": {
            "tags": []
          },
          "execution_count": 27
        }
      ]
    },
    {
      "cell_type": "code",
      "metadata": {
        "id": "R9jTYdSFCQQa",
        "outputId": "cd40a795-a8f6-4ac0-f95c-b27adac1759f",
        "colab": {
          "base_uri": "https://localhost:8080/"
        }
      },
      "source": [
        "#### Create an array of 10 ones\n",
        "np.ones(10)"
      ],
      "execution_count": 28,
      "outputs": [
        {
          "output_type": "execute_result",
          "data": {
            "text/plain": [
              "array([1., 1., 1., 1., 1., 1., 1., 1., 1., 1.])"
            ]
          },
          "metadata": {
            "tags": []
          },
          "execution_count": 28
        }
      ]
    },
    {
      "cell_type": "code",
      "metadata": {
        "id": "_2gWSALJCVwA",
        "outputId": "2ee372fe-b91e-466e-c581-c672e5c9a5cf",
        "colab": {
          "base_uri": "https://localhost:8080/"
        }
      },
      "source": [
        "#### Create an array of 10 fives\n",
        "np.ones(10) * 5"
      ],
      "execution_count": 29,
      "outputs": [
        {
          "output_type": "execute_result",
          "data": {
            "text/plain": [
              "array([5., 5., 5., 5., 5., 5., 5., 5., 5., 5.])"
            ]
          },
          "metadata": {
            "tags": []
          },
          "execution_count": 29
        }
      ]
    },
    {
      "cell_type": "code",
      "metadata": {
        "id": "b0k2-Jd4Cbjx",
        "outputId": "0349cbca-1bde-4b1e-a7eb-69cf39f61252",
        "colab": {
          "base_uri": "https://localhost:8080/"
        }
      },
      "source": [
        "#### Create an array of 10 integers from 10 to 50\n",
        "np.random.randint(10,50,10)"
      ],
      "execution_count": 31,
      "outputs": [
        {
          "output_type": "execute_result",
          "data": {
            "text/plain": [
              "array([14, 16, 14, 13, 22, 46, 24, 25, 30, 45])"
            ]
          },
          "metadata": {
            "tags": []
          },
          "execution_count": 31
        }
      ]
    },
    {
      "cell_type": "code",
      "metadata": {
        "id": "6gzi_uZACiGy",
        "outputId": "ab0ec8d9-c47d-46a7-a165-6a6f7505e183",
        "colab": {
          "base_uri": "https://localhost:8080/"
        }
      },
      "source": [
        "#### Create an array of all the even integers from 10 to 50 (including 50)\n",
        "np.arange(10,51,2)"
      ],
      "execution_count": 32,
      "outputs": [
        {
          "output_type": "execute_result",
          "data": {
            "text/plain": [
              "array([10, 12, 14, 16, 18, 20, 22, 24, 26, 28, 30, 32, 34, 36, 38, 40, 42,\n",
              "       44, 46, 48, 50])"
            ]
          },
          "metadata": {
            "tags": []
          },
          "execution_count": 32
        }
      ]
    },
    {
      "cell_type": "code",
      "metadata": {
        "id": "bsHO3b99Ctsd",
        "outputId": "93ebdf05-ef7c-40aa-a418-2b116ea050b3",
        "colab": {
          "base_uri": "https://localhost:8080/"
        }
      },
      "source": [
        "#### Create a 3x3 matrix with values ranging from 0 to 8\n",
        "np.arange(9).reshape(3,3)"
      ],
      "execution_count": 33,
      "outputs": [
        {
          "output_type": "execute_result",
          "data": {
            "text/plain": [
              "array([[0, 1, 2],\n",
              "       [3, 4, 5],\n",
              "       [6, 7, 8]])"
            ]
          },
          "metadata": {
            "tags": []
          },
          "execution_count": 33
        }
      ]
    },
    {
      "cell_type": "code",
      "metadata": {
        "id": "JtECi1duCyXz",
        "outputId": "c1cdff55-7e55-439f-c1f1-905e32ee83bb",
        "colab": {
          "base_uri": "https://localhost:8080/"
        }
      },
      "source": [
        "#### Create a 3x3 identity matrix\n",
        "np.eye(3)"
      ],
      "execution_count": 34,
      "outputs": [
        {
          "output_type": "execute_result",
          "data": {
            "text/plain": [
              "array([[1., 0., 0.],\n",
              "       [0., 1., 0.],\n",
              "       [0., 0., 1.]])"
            ]
          },
          "metadata": {
            "tags": []
          },
          "execution_count": 34
        }
      ]
    },
    {
      "cell_type": "code",
      "metadata": {
        "id": "_uYO2BPpC1Gt",
        "outputId": "fb2a2bf9-0b69-4ec5-f63e-fa05dcfae92c",
        "colab": {
          "base_uri": "https://localhost:8080/"
        }
      },
      "source": [
        "#### Use NumPy to generate a random number between 0 and 1\n",
        "np.random.rand(1)"
      ],
      "execution_count": 37,
      "outputs": [
        {
          "output_type": "execute_result",
          "data": {
            "text/plain": [
              "array([0.67475232])"
            ]
          },
          "metadata": {
            "tags": []
          },
          "execution_count": 37
        }
      ]
    },
    {
      "cell_type": "code",
      "metadata": {
        "id": "w3DYIBi7C31K"
      },
      "source": [
        "#### Use NumPy to generate an array of 25 random numbers sampled from a standard normal distribution\n",
        "arr = np.random.randn(500)"
      ],
      "execution_count": 46,
      "outputs": []
    },
    {
      "cell_type": "code",
      "metadata": {
        "id": "uCMD9AQ9DAZm",
        "outputId": "6d0b1888-dfbb-4f69-bb82-87fa69edaa27",
        "colab": {
          "base_uri": "https://localhost:8080/",
          "height": 266
        }
      },
      "source": [
        "import matplotlib.pyplot as plt\n",
        "plt.hist(x=arr,bins=50);"
      ],
      "execution_count": 50,
      "outputs": [
        {
          "output_type": "display_data",
          "data": {
            "image/png": "[encoded data removed]",
            "text/plain": [
              "<Figure size 432x288 with 1 Axes>"
            ]
          },
          "metadata": {
            "tags": [],
            "needs_background": "light"
          }
        }
      ]
    },
    {
      "cell_type": "code",
      "metadata": {
        "id": "66qmpK54ES0u",
        "outputId": "367e002a-5666-498e-ea42-b39a295f24d8",
        "colab": {
          "base_uri": "https://localhost:8080/"
        }
      },
      "source": [
        "#### Create an array of 20 linearly spaced points between 0 and 1:\n",
        "np.linspace(0,1,20)"
      ],
      "execution_count": 51,
      "outputs": [
        {
          "output_type": "execute_result",
          "data": {
            "text/plain": [
              "array([0.        , 0.05263158, 0.10526316, 0.15789474, 0.21052632,\n",
              "       0.26315789, 0.31578947, 0.36842105, 0.42105263, 0.47368421,\n",
              "       0.52631579, 0.57894737, 0.63157895, 0.68421053, 0.73684211,\n",
              "       0.78947368, 0.84210526, 0.89473684, 0.94736842, 1.        ])"
            ]
          },
          "metadata": {
            "tags": []
          },
          "execution_count": 51
        }
      ]
    },
    {
      "cell_type": "code",
      "metadata": {
        "id": "-byV-yEEEnSY",
        "outputId": "120143be-e513-4cf9-9232-614cff541715",
        "colab": {
          "base_uri": "https://localhost:8080/"
        }
      },
      "source": [
        "# Now you will be given a few matrices, and be asked to replicate the resulting matrix outputs:\n",
        "mat = np.arange(1,26).reshape(5,5)\n",
        "mat"
      ],
      "execution_count": 52,
      "outputs": [
        {
          "output_type": "execute_result",
          "data": {
            "text/plain": [
              "array([[ 1,  2,  3,  4,  5],\n",
              "       [ 6,  7,  8,  9, 10],\n",
              "       [11, 12, 13, 14, 15],\n",
              "       [16, 17, 18, 19, 20],\n",
              "       [21, 22, 23, 24, 25]])"
            ]
          },
          "metadata": {
            "tags": []
          },
          "execution_count": 52
        }
      ]
    },
    {
      "cell_type": "code",
      "metadata": {
        "id": "1Z1nxxUnEuvD",
        "outputId": "2fa7e46f-671e-4e56-ed69-9d925d3c6bda",
        "colab": {
          "base_uri": "https://localhost:8080/"
        }
      },
      "source": [
        "mat[2:,1:]"
      ],
      "execution_count": 53,
      "outputs": [
        {
          "output_type": "execute_result",
          "data": {
            "text/plain": [
              "array([[12, 13, 14, 15],\n",
              "       [17, 18, 19, 20],\n",
              "       [22, 23, 24, 25]])"
            ]
          },
          "metadata": {
            "tags": []
          },
          "execution_count": 53
        }
      ]
    },
    {
      "cell_type": "code",
      "metadata": {
        "id": "EeJk9yOuEwvO",
        "outputId": "d5442d09-7975-4f35-bbf2-036f8098b4eb",
        "colab": {
          "base_uri": "https://localhost:8080/"
        }
      },
      "source": [
        "mat[:3,1:2]\n"
      ],
      "execution_count": 54,
      "outputs": [
        {
          "output_type": "execute_result",
          "data": {
            "text/plain": [
              "array([[ 2],\n",
              "       [ 7],\n",
              "       [12]])"
            ]
          },
          "metadata": {
            "tags": []
          },
          "execution_count": 54
        }
      ]
    },
    {
      "cell_type": "code",
      "metadata": {
        "id": "FZsA8JwvEyQM",
        "outputId": "6dfe47a6-77a7-4469-849d-efade65ea443",
        "colab": {
          "base_uri": "https://localhost:8080/"
        }
      },
      "source": [
        "#### Get the sum of all the values in mat\n",
        "np.sum(mat)"
      ],
      "execution_count": 55,
      "outputs": [
        {
          "output_type": "execute_result",
          "data": {
            "text/plain": [
              "325"
            ]
          },
          "metadata": {
            "tags": []
          },
          "execution_count": 55
        }
      ]
    },
    {
      "cell_type": "code",
      "metadata": {
        "id": "1GbhGxNOE3JX",
        "outputId": "fc95ce55-22a8-42e8-c583-e782ae9e028d",
        "colab": {
          "base_uri": "https://localhost:8080/"
        }
      },
      "source": [
        "#### Get the standard deviation of the values in mat\n",
        "np.std(mat)"
      ],
      "execution_count": 56,
      "outputs": [
        {
          "output_type": "execute_result",
          "data": {
            "text/plain": [
              "7.211102550927978"
            ]
          },
          "metadata": {
            "tags": []
          },
          "execution_count": 56
        }
      ]
    },
    {
      "cell_type": "code",
      "metadata": {
        "id": "NOL_MaoSE6Fn",
        "outputId": "903dba68-9339-45c6-c1b2-7a31d2adee2b",
        "colab": {
          "base_uri": "https://localhost:8080/"
        }
      },
      "source": [
        "#### Get the sum of all the columns in mat\n",
        "np.sum(mat,0)"
      ],
      "execution_count": 59,
      "outputs": [
        {
          "output_type": "execute_result",
          "data": {
            "text/plain": [
              "array([55, 60, 65, 70, 75])"
            ]
          },
          "metadata": {
            "tags": []
          },
          "execution_count": 59
        }
      ]
    },
    {
      "cell_type": "code",
      "metadata": {
        "id": "D4gLshxME9ev"
      },
      "source": [
        ""
      ],
      "execution_count": 60,
      "outputs": []
    },
    {
      "cell_type": "code",
      "metadata": {
        "id": "O8BLsiteFKgp"
      },
      "source": [
        ""
      ],
      "execution_count": null,
      "outputs": []
    }
  ]
}