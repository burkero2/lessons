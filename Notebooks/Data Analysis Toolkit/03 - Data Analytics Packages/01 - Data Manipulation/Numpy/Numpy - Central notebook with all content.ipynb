{
  "nbformat": 4,
  "nbformat_minor": 0,
  "metadata": {
    "colab": {
      "name": "Code Institute - Data Practitioner.ipynb",
      "provenance": [],
      "collapsed_sections": [],
      "toc_visible": true
    },
    "kernelspec": {
      "name": "python383jvsc74a57bd0b3ba2566441a7c06988d0923437866b63cedc61552a5af99d1f4fb67d367b25f",
      "display_name": "Python 3.8.3 64-bit ('base': conda)"
    },
    "language_info": {
      "name": "python",
      "version": "3.8.3"
    }
  },
  "cells": [
    {
      "cell_type": "markdown",
      "metadata": {
        "id": "pTnO1pqWPfQW"
      },
      "source": [
        "# Lesson 01"
      ]
    },
    {
      "cell_type": "markdown",
      "metadata": {
        "id": "wLC4EZ4FMFFd"
      },
      "source": [
        "## Lesson Objectives\n",
        "* Understand what is NumPy and its **importance** for Data Science\n",
        "* Experiment with array **builtin methods**\n",
        "* Use array **methods and attributes**\n",
        "\n",
        "<img src=\"https://raw.githubusercontent.com/numpy/numpy/181f273a59744d58f90f45d953a3285484c72cba/branding/logo/primary/numpylogo.svg\" width=\"25%\" height=\"25%\" />"
      ]
    },
    {
      "cell_type": "markdown",
      "metadata": {
        "id": "EbZ0OArSOiY_"
      },
      "source": [
        "* NumPy is a library for the Python programming language, adding support for large, multi-dimensional arrays and matrices, along with a large collection of high-level mathematical functions to operate on these arrays.\n",
        "* It is a **Linear Algebra** Library and almost all of the libraries used in Data Science rely on NumPy as one of their main building blocks."
      ]
    },
    {
      "cell_type": "markdown",
      "metadata": {
        "id": "Nm7owy0jOij0"
      },
      "source": [
        "## Import Package"
      ]
    },
    {
      "cell_type": "markdown",
      "metadata": {
        "id": "tsWK7yHMMLjt"
      },
      "source": [
        "* Colab offers a session with a set of packages already installed. To check which packages are installed type in a code cell **!pip freeze** and run it. In case NumPy is not installed, you may type and run in a code cell **!pip install numpy**\n",
        "* NumPy should be already incluced in this set of packages. You will just need to import it."
      ]
    },
    {
      "cell_type": "code",
      "metadata": {
        "id": "2qAuVin_OvsR"
      },
      "source": [
        "import numpy as np"
      ],
      "execution_count": null,
      "outputs": []
    },
    {
      "cell_type": "markdown",
      "metadata": {
        "id": "wMsillcAPQhs"
      },
      "source": [
        "## Array"
      ]
    },
    {
      "cell_type": "markdown",
      "metadata": {
        "id": "zwVYlfccPwl7"
      },
      "source": [
        "* An **array** is the foundation of NumPy and come as vector or matrix, where vector is a 1-d array, and matrix is 2-d (or n dimension) array. A matrix can also have have 1 row x 1 column.\n",
        "* We can create a 1-d array based on a list:\n"
      ]
    },
    {
      "cell_type": "code",
      "metadata": {
        "id": "lwyxHifeO6mB"
      },
      "source": [
        "my_list = [7,9,88,4621]\n",
        "my_list"
      ],
      "execution_count": null,
      "outputs": []
    },
    {
      "cell_type": "code",
      "metadata": {
        "id": "0VmFvO8ZKEoJ"
      },
      "source": [
        "arr = np.array(my_list)\n",
        "arr"
      ],
      "execution_count": null,
      "outputs": []
    },
    {
      "cell_type": "markdown",
      "metadata": {
        "id": "6Ls_jDssdW2c"
      },
      "source": [
        "* In the previous example, please note 1 bracket before the first item. That indicates it is a **1-d array**. \n",
        "\n",
        "\n",
        "```\n",
        "array([   7,    9,   88, 4621])\n",
        "```\n",
        "\n"
      ]
    },
    {
      "cell_type": "markdown",
      "metadata": {
        "id": "j0RSQFLadpYs"
      },
      "source": [
        "* Just a side note\n",
        "  * You don't have necessarily to pass the list as a variable at np.array() function, \n",
        "  * You can write the list directly if you prefer: np.array([7,9,88,4621])\n",
        "  * Both create the same array"
      ]
    },
    {
      "cell_type": "markdown",
      "metadata": {
        "id": "ti7_Hbo0KHMX"
      },
      "source": [
        "* An array can handle numbers, categories or both"
      ]
    },
    {
      "cell_type": "code",
      "metadata": {
        "id": "h5WDb_DkKWcH"
      },
      "source": [
        "my_list = ['text','label_example',55,150,'final_text_example']\n",
        "arr = np.array(my_list)\n",
        "arr"
      ],
      "execution_count": null,
      "outputs": []
    },
    {
      "cell_type": "markdown",
      "metadata": {
        "id": "5UrNzwOtKxLc"
      },
      "source": [
        "* If your list has more than 1 dimension, you can create a 2-d array, or matrix\n"
      ]
    },
    {
      "cell_type": "code",
      "metadata": {
        "id": "3rNhIZ2CO6sA"
      },
      "source": [
        "my_matrix = [[10,80,77],[99,99,99],[0.5,0.6,0.75]]\n",
        "arr = np.array(my_matrix)\n",
        "arr"
      ],
      "execution_count": null,
      "outputs": []
    },
    {
      "cell_type": "markdown",
      "metadata": {
        "id": "NbJuRA9Rc34W"
      },
      "source": [
        "* In the previous example, please note the 2 brackets before the first item. That indicates it is a **2-d array**. \n",
        "\n",
        "\n",
        "```\n",
        "array([[10.  , 8   .......\n",
        "```\n",
        "\n"
      ]
    },
    {
      "cell_type": "markdown",
      "metadata": {
        "id": "g7QkexWcQ636"
      },
      "source": [
        "## Built in methods to generate arrays"
      ]
    },
    {
      "cell_type": "markdown",
      "metadata": {
        "id": "x0E6RtMxL3Bn"
      },
      "source": [
        "* You can generate data for your arrays using builtin methods"
      ]
    },
    {
      "cell_type": "code",
      "metadata": {
        "id": "dnzs8bEnO61k"
      },
      "source": [
        "arr = np.arange(start=1,stop=9,step=1)\n",
        "arr"
      ],
      "execution_count": null,
      "outputs": []
    },
    {
      "cell_type": "markdown",
      "metadata": {
        "id": "A9ImxW5lN02B"
      },
      "source": [
        "* Text explaining something"
      ]
    },
    {
      "cell_type": "code",
      "metadata": {
        "id": "bj5y88jxRLZ8"
      },
      "source": [
        "arr = np.zeros((2,2))\n",
        "arr"
      ],
      "execution_count": null,
      "outputs": []
    },
    {
      "cell_type": "markdown",
      "metadata": {
        "id": "N2u5ShAtcV7V"
      },
      "source": [
        "* Text explaining something"
      ]
    },
    {
      "cell_type": "code",
      "metadata": {
        "id": "ETpwXc0ecTlP"
      },
      "source": [
        "arr = np.zeros((2,2,2))\n",
        "arr"
      ],
      "execution_count": null,
      "outputs": []
    },
    {
      "cell_type": "markdown",
      "metadata": {
        "id": "Xn9h5T0AeTJy"
      },
      "source": [
        "* In the previous example, please note the 3 brackets before the first item. That indicates it is a **3-d array**. \n",
        "\n",
        "\n",
        "```\n",
        "array([[[0.,    .......\n",
        "```\n",
        "\n"
      ]
    },
    {
      "cell_type": "markdown",
      "metadata": {
        "id": "KG3DptUNOFvQ"
      },
      "source": [
        "* Text explaining something"
      ]
    },
    {
      "cell_type": "code",
      "metadata": {
        "id": "eF5sBy6JRiG7"
      },
      "source": [
        "arr = np.ones((2,5))\n",
        "arr"
      ],
      "execution_count": null,
      "outputs": []
    },
    {
      "cell_type": "markdown",
      "metadata": {
        "id": "71w9WqAHOHFj"
      },
      "source": [
        "* Text explaining something"
      ]
    },
    {
      "cell_type": "code",
      "metadata": {
        "id": "lsYm6mtIRiJB"
      },
      "source": [
        "arr = np.eye(3)\n",
        "arr"
      ],
      "execution_count": null,
      "outputs": []
    },
    {
      "cell_type": "markdown",
      "metadata": {
        "id": "49JgPM9tOIDD"
      },
      "source": [
        "* Text explaining something"
      ]
    },
    {
      "cell_type": "code",
      "metadata": {
        "id": "b95xXY2MRiLa"
      },
      "source": [
        "arr = np.linspace(start=1,stop=50,num=40)\n",
        "arr"
      ],
      "execution_count": null,
      "outputs": []
    },
    {
      "cell_type": "markdown",
      "metadata": {
        "id": "mmncc_4gOL_j"
      },
      "source": [
        "* Text explaining something"
      ]
    },
    {
      "cell_type": "code",
      "metadata": {
        "id": "uCSHbGDkRLcV"
      },
      "source": [
        "arr = np.random.rand(2,2)\n",
        "arr"
      ],
      "execution_count": null,
      "outputs": []
    },
    {
      "cell_type": "markdown",
      "metadata": {
        "id": "mA4D03flOOC4"
      },
      "source": [
        "* Text explaining something"
      ]
    },
    {
      "cell_type": "code",
      "metadata": {
        "id": "phE3IexNRLei"
      },
      "source": [
        "arr = np.random.randint(low=10,high=50,size=5)\n",
        "arr "
      ],
      "execution_count": null,
      "outputs": []
    },
    {
      "cell_type": "markdown",
      "metadata": {
        "id": "b_eHX9fWOPGZ"
      },
      "source": [
        "* Text explaining something"
      ]
    },
    {
      "cell_type": "code",
      "metadata": {
        "id": "IhdW643eG5Ql"
      },
      "source": [
        "np.random.seed(seed=0)"
      ],
      "execution_count": null,
      "outputs": []
    },
    {
      "cell_type": "markdown",
      "metadata": {
        "id": "weQiuBcJUEaF"
      },
      "source": [
        "## Array Methods"
      ]
    },
    {
      "cell_type": "markdown",
      "metadata": {
        "id": "jQxuj7VaOZbf"
      },
      "source": [
        "* Text explaining something"
      ]
    },
    {
      "cell_type": "code",
      "metadata": {
        "id": "b9cjED2-UDg0"
      },
      "source": [
        "arr = np.random.randint(low=1,high=150,size=40)\n",
        "arr"
      ],
      "execution_count": null,
      "outputs": []
    },
    {
      "cell_type": "code",
      "metadata": {
        "id": "VF20VM8dUWwQ"
      },
      "source": [
        "arr.reshape(4,10)"
      ],
      "execution_count": null,
      "outputs": []
    },
    {
      "cell_type": "code",
      "metadata": {
        "id": "6qiRng8BUW0-"
      },
      "source": [
        "arr.max()"
      ],
      "execution_count": null,
      "outputs": []
    },
    {
      "cell_type": "code",
      "metadata": {
        "id": "ljtDjMttUdzg"
      },
      "source": [
        "arr.argmax()"
      ],
      "execution_count": null,
      "outputs": []
    },
    {
      "cell_type": "code",
      "metadata": {
        "id": "y4yMLMEyUd16"
      },
      "source": [
        "arr.min()"
      ],
      "execution_count": null,
      "outputs": []
    },
    {
      "cell_type": "code",
      "metadata": {
        "id": "G0wkKfQ3Ukro"
      },
      "source": [
        "arr.argmin()"
      ],
      "execution_count": null,
      "outputs": []
    },
    {
      "cell_type": "markdown",
      "metadata": {
        "id": "KJn40oefVDiR"
      },
      "source": [
        "## Array Attributes"
      ]
    },
    {
      "cell_type": "code",
      "metadata": {
        "id": "FHKkvacdUmRe"
      },
      "source": [
        "arr.shape  # .shape is a attribute"
      ],
      "execution_count": null,
      "outputs": []
    },
    {
      "cell_type": "code",
      "metadata": {
        "id": "xPNqFcCVUmXp"
      },
      "source": [
        "arr.dtype"
      ],
      "execution_count": null,
      "outputs": []
    },
    {
      "cell_type": "markdown",
      "metadata": {
        "id": "WzhIShV6kPo9"
      },
      "source": [
        "## Activities"
      ]
    },
    {
      "cell_type": "markdown",
      "metadata": {
        "id": "Ksvs2USUkZHD"
      },
      "source": [
        "* Create in the cell below a 4 x 5 array of all the even integers from -6 to 32, including 32"
      ]
    },
    {
      "cell_type": "code",
      "metadata": {
        "id": "3gsDPEeoOni0",
        "colab": {
          "base_uri": "https://localhost:8080/"
        },
        "outputId": "a1d33783-ae21-4a16-b5f9-0717ed77ed11"
      },
      "source": [
        "arr = np.arange(start=-6,stop=33,step=2).reshape(4,5)\n",
        "arr"
      ],
      "execution_count": 114,
      "outputs": [
        {
          "output_type": "execute_result",
          "data": {
            "text/plain": [
              "array([[-6, -4, -2,  0,  2],\n",
              "       [ 4,  6,  8, 10, 12],\n",
              "       [14, 16, 18, 20, 22],\n",
              "       [24, 26, 28, 30, 32]])"
            ]
          },
          "metadata": {
            "tags": []
          },
          "execution_count": 114
        }
      ]
    },
    {
      "cell_type": "markdown",
      "metadata": {
        "id": "IsCn32iHmWmu"
      },
      "source": [
        "* Using your NumPy knowledge, print statment and displaying variables in a f-string, create the following statement:\n",
        "  * \"The max value for the array is 32 and its index location is 19\""
      ]
    },
    {
      "cell_type": "code",
      "metadata": {
        "id": "gPVwbYdKkW0O",
        "outputId": "968ad8ca-0aff-47d0-eddc-9c33e5dd8143",
        "colab": {
          "base_uri": "https://localhost:8080/"
        }
      },
      "source": [
        "print(f\"The max value for the array is {arr.max()} and its index location is {arr.argmax()}\")"
      ],
      "execution_count": 115,
      "outputs": [
        {
          "output_type": "stream",
          "text": [
            "The max value for the array is 32 and its index location is 19\n"
          ],
          "name": "stdout"
        }
      ]
    },
    {
      "cell_type": "markdown",
      "metadata": {
        "id": "zJvmit2KPXMx"
      },
      "source": [
        "# Lesson 02"
      ]
    },
    {
      "cell_type": "markdown",
      "metadata": {
        "id": "R3EkgoTwaZY_"
      },
      "source": [
        "## Lesson Objectives\n",
        "* xxx\n",
        "* xxxxx\n",
        "* xx\n",
        "\n",
        "<img src=\"https://raw.githubusercontent.com/numpy/numpy/181f273a59744d58f90f45d953a3285484c72cba/branding/logo/primary/numpylogo.svg\" width=\"25%\" height=\"25%\" />"
      ]
    },
    {
      "cell_type": "markdown",
      "metadata": {
        "id": "RhaANRQHJs_A"
      },
      "source": [
        "## Import Package"
      ]
    },
    {
      "cell_type": "markdown",
      "metadata": {
        "id": "z0e7IChDJs_H"
      },
      "source": [
        "* Colab offers a session with a set of packages already installed. To check which packages are installed type in a code cell **!pip freeze** and run it. In case NumPy is not installed, you may type and run in a code cell **!pip install numpy**\n",
        "* NumPy should be already incluced in this set of packages. You will just need to import it."
      ]
    },
    {
      "cell_type": "code",
      "metadata": {
        "id": "-6mTWe4eJs_I"
      },
      "source": [
        "import numpy as np"
      ],
      "execution_count": null,
      "outputs": []
    },
    {
      "cell_type": "markdown",
      "metadata": {
        "id": "GDssTE1OPuRi"
      },
      "source": [
        "## Array Indexing and Selecting"
      ]
    },
    {
      "cell_type": "code",
      "metadata": {
        "id": "Ct4UxKAkUd4v"
      },
      "source": [
        "#Creating sample array\n",
        "arr = arr = np.arange(0,21,2)\n",
        "arr "
      ],
      "execution_count": null,
      "outputs": []
    },
    {
      "cell_type": "code",
      "metadata": {
        "id": "ADuv_WcoNbvq"
      },
      "source": [
        "#Get a value at an index\n",
        "arr[8]"
      ],
      "execution_count": null,
      "outputs": []
    },
    {
      "cell_type": "code",
      "metadata": {
        "id": "5drf2T8OQPrZ"
      },
      "source": [
        "#Get values in a range\n",
        "arr[1:5]"
      ],
      "execution_count": null,
      "outputs": []
    },
    {
      "cell_type": "code",
      "metadata": {
        "id": "N6P8T3teQRne"
      },
      "source": [
        "#Get values in a range\n",
        "arr[:5]"
      ],
      "execution_count": null,
      "outputs": []
    },
    {
      "cell_type": "code",
      "metadata": {
        "id": "bxz3kY9zQV7m"
      },
      "source": [
        "#Get values in a range\n",
        "arr[1:]"
      ],
      "execution_count": null,
      "outputs": []
    },
    {
      "cell_type": "code",
      "metadata": {
        "id": "v72HzSbGRd2B"
      },
      "source": [
        "#Get values in a range\n",
        "arr[:]"
      ],
      "execution_count": null,
      "outputs": []
    },
    {
      "cell_type": "markdown",
      "metadata": {
        "id": "fbvVjudOQseD"
      },
      "source": [
        "## Broadcast"
      ]
    },
    {
      "cell_type": "code",
      "metadata": {
        "id": "Z4QOjOFsQz8U"
      },
      "source": [
        "arr = np.arange(0,21,2)\n",
        "slice_of_arr = arr[0:6]\n",
        "slice_of_arr"
      ],
      "execution_count": null,
      "outputs": []
    },
    {
      "cell_type": "code",
      "metadata": {
        "id": "he-o7m-LRaVd"
      },
      "source": [
        "#Change Slice\n",
        "slice_of_arr[:]=99\n",
        "\n",
        "#Show Slice again\n",
        "slice_of_arr"
      ],
      "execution_count": null,
      "outputs": []
    },
    {
      "cell_type": "code",
      "metadata": {
        "id": "mEpzVswURlm0"
      },
      "source": [
        "arr # original array change as well!!!!\n",
        "\n",
        "# the data is not copied, it was just a view. It helps to save memory"
      ],
      "execution_count": null,
      "outputs": []
    },
    {
      "cell_type": "code",
      "metadata": {
        "id": "M_SrOi78Rm3e"
      },
      "source": [
        "# to create a independent slice_of_arr you should\n",
        "arr = arr = np.arange(0,21,2)\n",
        "slice_of_arr = arr[0:6].copy()\n",
        "slice_of_arr\n",
        "\n"
      ],
      "execution_count": null,
      "outputs": []
    },
    {
      "cell_type": "code",
      "metadata": {
        "id": "aQhQ30SsSS09"
      },
      "source": [
        "slice_of_arr[:]=99\n",
        "slice_of_arr  # slice_of_arr was changed"
      ],
      "execution_count": null,
      "outputs": []
    },
    {
      "cell_type": "code",
      "metadata": {
        "id": "8hypqSk0SW3z"
      },
      "source": [
        "arr  # original array remains the same"
      ],
      "execution_count": null,
      "outputs": []
    },
    {
      "cell_type": "markdown",
      "metadata": {
        "id": "zI_mCs-zSfxg"
      },
      "source": [
        "## Indexing a 2D array"
      ]
    },
    {
      "cell_type": "code",
      "metadata": {
        "id": "7lucwWq-SYlJ"
      },
      "source": [
        "arr = np.random.randint(low=10,high=50,size=15).reshape(3,5)\n",
        "arr"
      ],
      "execution_count": null,
      "outputs": []
    },
    {
      "cell_type": "code",
      "metadata": {
        "id": "kzpE9Y5BSvL-"
      },
      "source": [
        "#Indexing row\n",
        "arr[1]"
      ],
      "execution_count": null,
      "outputs": []
    },
    {
      "cell_type": "code",
      "metadata": {
        "id": "7cKAxyItS2pQ"
      },
      "source": [
        "# Getting individual element value\n",
        "arr[1,0]"
      ],
      "execution_count": null,
      "outputs": []
    },
    {
      "cell_type": "code",
      "metadata": {
        "id": "-4Y8tTnIS7Ij"
      },
      "source": [
        "# 2D array slicing rows and columns\n",
        "arr[:2,1:]"
      ],
      "execution_count": null,
      "outputs": []
    },
    {
      "cell_type": "markdown",
      "metadata": {
        "id": "v2yL5IgqTgZb"
      },
      "source": [
        "## Selecting an array"
      ]
    },
    {
      "cell_type": "code",
      "metadata": {
        "id": "OeFP3E10TD1M"
      },
      "source": [
        "np.random.seed(seed=10)\n",
        "arr = np.random.randint(low=1,high=25,size=15).reshape(3,5)\n",
        "arr"
      ],
      "execution_count": null,
      "outputs": []
    },
    {
      "cell_type": "code",
      "metadata": {
        "id": "qOipBpaMT4k1"
      },
      "source": [
        "arr > 10"
      ],
      "execution_count": null,
      "outputs": []
    },
    {
      "cell_type": "code",
      "metadata": {
        "id": "5GjAczWKUk7T"
      },
      "source": [
        "arr[arr>10]"
      ],
      "execution_count": null,
      "outputs": []
    },
    {
      "cell_type": "markdown",
      "metadata": {
        "id": "YMjOPV8eUyy8"
      },
      "source": [
        "# Lesson 03"
      ]
    },
    {
      "cell_type": "markdown",
      "metadata": {
        "id": "CBWv2R0JMaNn"
      },
      "source": [
        "## Lesson Objectives\n",
        "* xxxx\n",
        "* xxxx\n",
        "* xxxx\n",
        "\n",
        "<img src=\"https://raw.githubusercontent.com/numpy/numpy/181f273a59744d58f90f45d953a3285484c72cba/branding/logo/primary/numpylogo.svg\" width=\"25%\" height=\"25%\" />"
      ]
    },
    {
      "cell_type": "markdown",
      "metadata": {
        "id": "2eoV15uiJvCw"
      },
      "source": [
        "## Import Package"
      ]
    },
    {
      "cell_type": "markdown",
      "metadata": {
        "id": "hb92tOVDJvCw"
      },
      "source": [
        "* Colab offers a session with a set of packages already installed. To check which packages are installed type in a code cell **!pip freeze** and run it. In case NumPy is not installed, you may type and run in a code cell **!pip install numpy**\n",
        "* NumPy should be already incluced in this set of packages. You will just need to import it."
      ]
    },
    {
      "cell_type": "code",
      "metadata": {
        "id": "ggw1IWiqJvCx"
      },
      "source": [
        "import numpy as np"
      ],
      "execution_count": null,
      "outputs": []
    },
    {
      "cell_type": "markdown",
      "metadata": {
        "id": "WaSjUGvVVDbj"
      },
      "source": [
        "## Operations"
      ]
    },
    {
      "cell_type": "code",
      "metadata": {
        "id": "ZkHGWZBEUpkb"
      },
      "source": [
        "arr = np.random.randint(low=-3,high=25,size=15).reshape(3,5)\n",
        "arr"
      ],
      "execution_count": null,
      "outputs": []
    },
    {
      "cell_type": "code",
      "metadata": {
        "id": "I8QMvdAAVHjK"
      },
      "source": [
        "arr + arr\n"
      ],
      "execution_count": null,
      "outputs": []
    },
    {
      "cell_type": "code",
      "metadata": {
        "id": "MNMDJuoEAUwd"
      },
      "source": [
        "arr * arr"
      ],
      "execution_count": null,
      "outputs": []
    },
    {
      "cell_type": "code",
      "metadata": {
        "id": "yggpq1jYAgtm"
      },
      "source": [
        "arr - arr"
      ],
      "execution_count": null,
      "outputs": []
    },
    {
      "cell_type": "code",
      "metadata": {
        "id": "PTiLB487AiYZ"
      },
      "source": [
        "# Just replaced with nan\n",
        "arr/arr"
      ],
      "execution_count": null,
      "outputs": []
    },
    {
      "cell_type": "code",
      "metadata": {
        "id": "YBKkVRg6AkOV"
      },
      "source": [
        "1/arr"
      ],
      "execution_count": null,
      "outputs": []
    },
    {
      "cell_type": "code",
      "metadata": {
        "id": "-JAnB9h5AqRp"
      },
      "source": [
        "arr**3"
      ],
      "execution_count": null,
      "outputs": []
    },
    {
      "cell_type": "markdown",
      "metadata": {
        "id": "G45witOfA44n"
      },
      "source": [
        "## Universal Functions"
      ]
    },
    {
      "cell_type": "code",
      "metadata": {
        "id": "jGY02my8AsUg"
      },
      "source": [
        "# https://numpy.org/doc/stable/reference/ufuncs.html"
      ],
      "execution_count": null,
      "outputs": []
    },
    {
      "cell_type": "code",
      "metadata": {
        "id": "zjc_KcVYCFBo"
      },
      "source": [
        "arr = np.random.randint(low=-3,high=25,size=15).reshape(3,5)\n",
        "arr"
      ],
      "execution_count": null,
      "outputs": []
    },
    {
      "cell_type": "code",
      "metadata": {
        "id": "6FC61u5WA7sD"
      },
      "source": [
        "np.sqrt(arr)"
      ],
      "execution_count": null,
      "outputs": []
    },
    {
      "cell_type": "code",
      "metadata": {
        "id": "JO0kRbqlA9gt"
      },
      "source": [
        "np.exp(arr)"
      ],
      "execution_count": null,
      "outputs": []
    },
    {
      "cell_type": "code",
      "metadata": {
        "id": "-NfskVMoBBzA"
      },
      "source": [
        "np.max(arr)"
      ],
      "execution_count": null,
      "outputs": []
    },
    {
      "cell_type": "code",
      "metadata": {
        "id": "dG3QLFP7BDvn"
      },
      "source": [
        "np.sin(arr)"
      ],
      "execution_count": null,
      "outputs": []
    },
    {
      "cell_type": "code",
      "metadata": {
        "id": "NSnXFG-sBFbk"
      },
      "source": [
        "np.log(arr)"
      ],
      "execution_count": null,
      "outputs": []
    },
    {
      "cell_type": "code",
      "metadata": {
        "id": "ty-rntmBCAip"
      },
      "source": [
        "np.std(arr)"
      ],
      "execution_count": null,
      "outputs": []
    },
    {
      "cell_type": "markdown",
      "metadata": {
        "id": "cPRX9DUbBIw_"
      },
      "source": [
        "# Lesson 04 - Exercises"
      ]
    },
    {
      "cell_type": "markdown",
      "metadata": {
        "id": "J51oqU4qMdT7"
      },
      "source": [
        "## Lesson Objectives\n",
        "* xxxx\n",
        "* xxxx\n",
        "* xxxx\n",
        "\n",
        "<img src=\"https://raw.githubusercontent.com/numpy/numpy/181f273a59744d58f90f45d953a3285484c72cba/branding/logo/primary/numpylogo.svg\" width=\"25%\" height=\"25%\" />"
      ]
    },
    {
      "cell_type": "markdown",
      "metadata": {
        "id": "kwm9o-fSJwBV"
      },
      "source": [
        "## Import Package"
      ]
    },
    {
      "cell_type": "markdown",
      "metadata": {
        "id": "BzZPRY2QJwBV"
      },
      "source": [
        "* Colab offers a session with a set of packages already installed. To check which packages are installed type in a code cell **!pip freeze** and run it. In case NumPy is not installed, you may type and run in a code cell **!pip install numpy**\n",
        "* NumPy should be already incluced in this set of packages. You will just need to import it."
      ]
    },
    {
      "cell_type": "code",
      "metadata": {
        "id": "pmleehGfJwBW"
      },
      "source": [
        "import numpy as np"
      ],
      "execution_count": null,
      "outputs": []
    },
    {
      "cell_type": "code",
      "metadata": {
        "id": "04Y-nlSYBGxY"
      },
      "source": [
        "#### Create an array of 10 zeros \n",
        "np.zeros(10)"
      ],
      "execution_count": null,
      "outputs": []
    },
    {
      "cell_type": "code",
      "metadata": {
        "id": "R9jTYdSFCQQa"
      },
      "source": [
        "#### Create an array of 10 ones\n",
        "np.ones(10)"
      ],
      "execution_count": null,
      "outputs": []
    },
    {
      "cell_type": "code",
      "metadata": {
        "id": "_2gWSALJCVwA"
      },
      "source": [
        "#### Create an array of 10 fives\n",
        "np.ones(10) * 5"
      ],
      "execution_count": null,
      "outputs": []
    },
    {
      "cell_type": "code",
      "metadata": {
        "id": "b0k2-Jd4Cbjx"
      },
      "source": [
        "#### Create an array of 10 integers from 10 to 50\n",
        "np.random.randint(10,50,10)"
      ],
      "execution_count": null,
      "outputs": []
    },
    {
      "cell_type": "code",
      "metadata": {
        "id": "6gzi_uZACiGy"
      },
      "source": [
        "#### Create an array of all the even integers from 10 to 50 (including 50)\n",
        "np.arange(10,51,2)"
      ],
      "execution_count": null,
      "outputs": []
    },
    {
      "cell_type": "code",
      "metadata": {
        "id": "bsHO3b99Ctsd"
      },
      "source": [
        "#### Create a 3x3 matrix with values ranging from 0 to 8\n",
        "np.arange(9).reshape(3,3)"
      ],
      "execution_count": null,
      "outputs": []
    },
    {
      "cell_type": "code",
      "metadata": {
        "id": "JtECi1duCyXz"
      },
      "source": [
        "#### Create a 3x3 identity matrix\n",
        "np.eye(3)"
      ],
      "execution_count": null,
      "outputs": []
    },
    {
      "cell_type": "code",
      "metadata": {
        "id": "_uYO2BPpC1Gt"
      },
      "source": [
        "#### Use NumPy to generate a random number between 0 and 1\n",
        "np.random.rand(1)"
      ],
      "execution_count": null,
      "outputs": []
    },
    {
      "cell_type": "code",
      "metadata": {
        "id": "w3DYIBi7C31K"
      },
      "source": [
        "#### Use NumPy to generate an array of 25 random numbers sampled from a standard normal distribution\n",
        "arr = np.random.randn(500)"
      ],
      "execution_count": null,
      "outputs": []
    },
    {
      "cell_type": "code",
      "metadata": {
        "id": "uCMD9AQ9DAZm"
      },
      "source": [
        "import matplotlib.pyplot as plt\n",
        "plt.hist(x=arr,bins=50);"
      ],
      "execution_count": null,
      "outputs": []
    },
    {
      "cell_type": "code",
      "metadata": {
        "id": "66qmpK54ES0u"
      },
      "source": [
        "#### Create an array of 20 linearly spaced points between 0 and 1:\n",
        "np.linspace(0,1,20)"
      ],
      "execution_count": null,
      "outputs": []
    },
    {
      "cell_type": "code",
      "metadata": {
        "id": "-byV-yEEEnSY"
      },
      "source": [
        "# Now you will be given a few matrices, and be asked to replicate the resulting matrix outputs:\n",
        "mat = np.arange(1,26).reshape(5,5)\n",
        "mat"
      ],
      "execution_count": null,
      "outputs": []
    },
    {
      "cell_type": "code",
      "metadata": {
        "id": "1Z1nxxUnEuvD"
      },
      "source": [
        "mat[2:,1:]"
      ],
      "execution_count": null,
      "outputs": []
    },
    {
      "cell_type": "code",
      "metadata": {
        "id": "EeJk9yOuEwvO"
      },
      "source": [
        "mat[:3,1:2]\n"
      ],
      "execution_count": null,
      "outputs": []
    },
    {
      "cell_type": "code",
      "metadata": {
        "id": "FZsA8JwvEyQM"
      },
      "source": [
        "#### Get the sum of all the values in mat\n",
        "np.sum(mat)"
      ],
      "execution_count": null,
      "outputs": []
    },
    {
      "cell_type": "code",
      "metadata": {
        "id": "1GbhGxNOE3JX"
      },
      "source": [
        "#### Get the standard deviation of the values in mat\n",
        "np.std(mat)"
      ],
      "execution_count": null,
      "outputs": []
    },
    {
      "cell_type": "code",
      "metadata": {
        "id": "NOL_MaoSE6Fn"
      },
      "source": [
        "#### Get the sum of all the columns in mat\n",
        "np.sum(mat,0)"
      ],
      "execution_count": null,
      "outputs": []
    },
    {
      "cell_type": "code",
      "metadata": {
        "id": "D4gLshxME9ev"
      },
      "source": [
        ""
      ],
      "execution_count": null,
      "outputs": []
    },
    {
      "cell_type": "code",
      "metadata": {
        "id": "O8BLsiteFKgp"
      },
      "source": [
        ""
      ],
      "execution_count": null,
      "outputs": []
    }
  ]
}