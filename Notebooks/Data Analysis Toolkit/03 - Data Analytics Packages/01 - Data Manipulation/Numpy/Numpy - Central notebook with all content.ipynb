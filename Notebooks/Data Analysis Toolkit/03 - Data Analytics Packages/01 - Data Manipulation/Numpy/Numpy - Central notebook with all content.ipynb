{
  "nbformat": 4,
  "nbformat_minor": 0,
  "metadata": {
    "colab": {
      "name": "Code Institute - Data Practitioner.ipynb",
      "provenance": [],
      "collapsed_sections": [],
      "toc_visible": true
    },
    "kernelspec": {
      "name": "python383jvsc74a57bd0b3ba2566441a7c06988d0923437866b63cedc61552a5af99d1f4fb67d367b25f",
      "display_name": "Python 3.8.3 64-bit ('base': conda)"
    },
    "language_info": {
      "name": "python",
      "version": "3.8.3"
    }
  },
  "cells": [
    {
      "cell_type": "markdown",
      "metadata": {
        "id": "pTnO1pqWPfQW"
      },
      "source": [
        "# Lesson 01"
      ]
    },
    {
      "cell_type": "markdown",
      "metadata": {
        "id": "wLC4EZ4FMFFd"
      },
      "source": [
        "## Lesson Objectives\n",
        "* Understand what is a NumPy **array**\n",
        "* Experiment with array **builtin methods**\n",
        "* Use array **methods and attributes**\n",
        "\n",
        "<img src=\"https://raw.githubusercontent.com/numpy/numpy/181f273a59744d58f90f45d953a3285484c72cba/branding/logo/primary/numpylogo.svg\" width=\"25%\" height=\"25%\" />"
      ]
    },
    {
      "cell_type": "markdown",
      "metadata": {
        "id": "EbZ0OArSOiY_"
      },
      "source": [
        "* NumPy is a library for the Python programming language, adding support for large, multi-dimensional arrays and matrices, along with a large collection of high-level mathematical functions to operate on these arrays.\n",
        "* It is a **Linear Algebra** Library and almost all of the libraries used in Data Science rely on NumPy as one of their main building blocks."
      ]
    },
    {
      "cell_type": "markdown",
      "metadata": {
        "id": "ZlzqIHhMNiuh"
      },
      "source": [
        "---"
      ]
    },
    {
      "cell_type": "markdown",
      "metadata": {
        "id": "Nm7owy0jOij0"
      },
      "source": [
        "## Import Package"
      ]
    },
    {
      "cell_type": "markdown",
      "metadata": {
        "id": "tsWK7yHMMLjt"
      },
      "source": [
        "* Colab offers a session with a set of packages already installed. To check which packages are installed type in a code cell **!pip freeze** and run it. In case NumPy is not installed, you may type and run in a code cell **!pip install numpy**\n",
        "* NumPy should be already incluced in this set of packages. You will just need to import it."
      ]
    },
    {
      "cell_type": "code",
      "metadata": {
        "id": "2qAuVin_OvsR"
      },
      "source": [
        "import numpy as np"
      ],
      "execution_count": 45,
      "outputs": []
    },
    {
      "cell_type": "markdown",
      "metadata": {
        "id": "kzizwvnUM035"
      },
      "source": [
        "---"
      ]
    },
    {
      "cell_type": "markdown",
      "metadata": {
        "id": "wMsillcAPQhs"
      },
      "source": [
        "## Array"
      ]
    },
    {
      "cell_type": "markdown",
      "metadata": {
        "id": "zwVYlfccPwl7"
      },
      "source": [
        "* An **array** is the foundation of NumPy, it is defined as a grid of values, either numbers or not. It comes as vector or matrix, where vector is a 1-d array, and matrix is 2-d (or n dimension) array. A matrix can also have have 1 row x 1 column.\n",
        "* An array is **useful** because it helps to organize data. With this structure, elements can easily be sorted or searched.\n",
        "* We can create a 1-d array based on a list:\n"
      ]
    },
    {
      "cell_type": "code",
      "metadata": {
        "id": "lwyxHifeO6mB"
      },
      "source": [
        "my_list = [7,9,88,4621]\n",
        "my_list"
      ],
      "execution_count": null,
      "outputs": []
    },
    {
      "cell_type": "code",
      "metadata": {
        "id": "0VmFvO8ZKEoJ"
      },
      "source": [
        "arr = np.array(my_list)\n",
        "arr"
      ],
      "execution_count": null,
      "outputs": []
    },
    {
      "cell_type": "markdown",
      "metadata": {
        "id": "6Ls_jDssdW2c"
      },
      "source": [
        "* In the previous example, please note 1 bracket before the first item. That indicates it is a **1-d array**. \n",
        "\n",
        "\n",
        "```\n",
        "array([   7,    9,   88, 4621])\n",
        "```\n",
        "\n"
      ]
    },
    {
      "cell_type": "markdown",
      "metadata": {
        "id": "j0RSQFLadpYs"
      },
      "source": [
        "* Just a side note\n",
        "  * You don't have necessarily to pass the list as a variable at np.array() function, \n",
        "  * You can write the list directly if you prefer: np.array([7,9,88,4621])\n",
        "  * Both create the same array"
      ]
    },
    {
      "cell_type": "markdown",
      "metadata": {
        "id": "ti7_Hbo0KHMX"
      },
      "source": [
        "* An array can **handle** numbers (integer, float etc), strings (text), timestamps (dates)."
      ]
    },
    {
      "cell_type": "code",
      "metadata": {
        "id": "h5WDb_DkKWcH"
      },
      "source": [
        "my_list = ['text','label_example',55,150,'final_text_example']\n",
        "arr = np.array(my_list)\n",
        "arr"
      ],
      "execution_count": null,
      "outputs": []
    },
    {
      "cell_type": "markdown",
      "metadata": {
        "id": "5UrNzwOtKxLc"
      },
      "source": [
        "* If your list has more than 1 dimension, you can create a **2-d array**, or matrix.\n",
        "* Please note the 2 brackets before the first item. That indicates it is a 2-d array.\n"
      ]
    },
    {
      "cell_type": "code",
      "metadata": {
        "id": "3rNhIZ2CO6sA"
      },
      "source": [
        "my_matrix = [[10,80,77], [99,99,99], [\"this is good\",\"string1\",\"example\"]]\n",
        "my_matrix"
      ],
      "execution_count": null,
      "outputs": []
    },
    {
      "cell_type": "code",
      "metadata": {
        "id": "ByDJVLSnKixL"
      },
      "source": [
        "arr = np.array(my_matrix)\n",
        "arr"
      ],
      "execution_count": null,
      "outputs": []
    },
    {
      "cell_type": "markdown",
      "metadata": {
        "id": "Zu8hFrtMM4gF"
      },
      "source": [
        "---"
      ]
    },
    {
      "cell_type": "markdown",
      "metadata": {
        "id": "g7QkexWcQ636"
      },
      "source": [
        "## Built-in methods to generate arrays"
      ]
    },
    {
      "cell_type": "markdown",
      "metadata": {
        "id": "x0E6RtMxL3Bn"
      },
      "source": [
        "* You can **generate data for your arrays** using built-in methods\n",
        "* You can quickly create an **evenly spaced** array of numbers using np.arange(). \n",
        "    * You may provide 3 arguments: the start, stop and step size of values interval. \n",
        "    * Stop argument is not inclusive. \n",
        "    * Play around with different step to see the effect. You may try and see the effect with step as 0.5, 1, 2, and 5."
      ]
    },
    {
      "cell_type": "code",
      "metadata": {
        "id": "dnzs8bEnO61k"
      },
      "source": [
        "arr = np.arange(start=1,stop=9,step=1)\n",
        "arr"
      ],
      "execution_count": null,
      "outputs": []
    },
    {
      "cell_type": "markdown",
      "metadata": {
        "id": "A9ImxW5lN02B"
      },
      "source": [
        "* You can also create an **array of zeros**. Just pass the shape of the desired array. The example below has a shape of 2 x 3 and is a 2-d array"
      ]
    },
    {
      "cell_type": "code",
      "metadata": {
        "id": "bj5y88jxRLZ8"
      },
      "source": [
        "arr = np.zeros((2,3))\n",
        "arr"
      ],
      "execution_count": null,
      "outputs": []
    },
    {
      "cell_type": "markdown",
      "metadata": {
        "id": "N2u5ShAtcV7V"
      },
      "source": [
        "* The example below has shape of 2 x 2 x 2 and is a 3-d array of zeros\n",
        "* Please note the 3 brackets before the first item. That indicates it is a 3-d array."
      ]
    },
    {
      "cell_type": "code",
      "metadata": {
        "id": "ETpwXc0ecTlP"
      },
      "source": [
        "arr = np.zeros((2,2,3))\n",
        "arr"
      ],
      "execution_count": null,
      "outputs": []
    },
    {
      "cell_type": "markdown",
      "metadata": {
        "id": "KG3DptUNOFvQ"
      },
      "source": [
        "* You could also create an **array of all ones**. The example below is a 2-d array."
      ]
    },
    {
      "cell_type": "code",
      "metadata": {
        "id": "eF5sBy6JRiG7"
      },
      "source": [
        "arr = np.ones((2,5))\n",
        "arr"
      ],
      "execution_count": null,
      "outputs": []
    },
    {
      "cell_type": "markdown",
      "metadata": {
        "id": "71w9WqAHOHFj"
      },
      "source": [
        "* You can also create **identity matrix**, that is a square matrix that has ones along its main diagonal and zeros everywhere else.\n",
        "* The example below is an identity matrix of shape 4 x 4."
      ]
    },
    {
      "cell_type": "code",
      "metadata": {
        "id": "lsYm6mtIRiJB"
      },
      "source": [
        "arr = np.eye(4)\n",
        "arr"
      ],
      "execution_count": null,
      "outputs": []
    },
    {
      "cell_type": "markdown",
      "metadata": {
        "id": "49JgPM9tOIDD"
      },
      "source": [
        "* A similar function to np.arange() is **np.linspace()**, but instead of step argument, there is num argument. Num is the number of samples that need to be retrieved in that interval. \n",
        "  * You will provide as argument the start, end and how many points you want in between. \n",
        "  * Stop argument here is inclusive"
      ]
    },
    {
      "cell_type": "code",
      "metadata": {
        "id": "b95xXY2MRiLa"
      },
      "source": [
        "arr = np.linspace(start=1,stop=50,num=5)\n",
        "arr"
      ],
      "execution_count": null,
      "outputs": []
    },
    {
      "cell_type": "markdown",
      "metadata": {
        "id": "mmncc_4gOL_j"
      },
      "source": [
        "* You can also create an array of a given shape with **random values from 0 to 1 using np.random.rand()**\n",
        "    * The arguments are the shape you are interested"
      ]
    },
    {
      "cell_type": "code",
      "metadata": {
        "id": "uCSHbGDkRLcV"
      },
      "source": [
        "arr = np.random.rand(2,2)  # 2-d array\n",
        "arr"
      ],
      "execution_count": null,
      "outputs": []
    },
    {
      "cell_type": "code",
      "metadata": {
        "id": "LQRSSl1f6xyt"
      },
      "source": [
        "arr = np.random.rand(3,5,2) # 3-d array\n",
        "arr"
      ],
      "execution_count": null,
      "outputs": []
    },
    {
      "cell_type": "markdown",
      "metadata": {
        "id": "CqJ5nrNtL0jy"
      },
      "source": [
        "* You can also create an array of given shape from a **\"standard normal\" distribution using random.randn()**\n",
        "* A standard normal distribution is a normal distribution with a mean of zero and standard deviation of 1. We will get back to that in future sections of the course"
      ]
    },
    {
      "cell_type": "code",
      "metadata": {
        "id": "AisYzY7hL02p"
      },
      "source": [
        "arr = np.random.randn(8,2) # 2-d array\n",
        "arr"
      ],
      "execution_count": null,
      "outputs": []
    },
    {
      "cell_type": "code",
      "metadata": {
        "id": "BZyxThBiNWlp"
      },
      "source": [
        "arr = np.random.randn(80) # 1-d array\n",
        "arr"
      ],
      "execution_count": null,
      "outputs": []
    },
    {
      "cell_type": "markdown",
      "metadata": {
        "id": "mA4D03flOOC4"
      },
      "source": [
        "* You can also create random integers setting the interval and size using **np.random.randint()**\n",
        "  * The arguments for interval are: low (inclusive) and high (exclusive). Size is the output shape, it can be an integer or tuple."
      ]
    },
    {
      "cell_type": "code",
      "metadata": {
        "id": "phE3IexNRLei"
      },
      "source": [
        "arr = np.random.randint(low=10,high=50,size=5) # 1-d array\n",
        "arr "
      ],
      "execution_count": null,
      "outputs": []
    },
    {
      "cell_type": "code",
      "metadata": {
        "id": "7bmjwPSp8Eiu"
      },
      "source": [
        "arr = np.random.randint(low=250,high=888,size=(4,3)) # 2-d array\n",
        "arr "
      ],
      "execution_count": null,
      "outputs": []
    },
    {
      "cell_type": "markdown",
      "metadata": {
        "id": "NRCDJuAPLnQf"
      },
      "source": [
        "---"
      ]
    },
    {
      "cell_type": "markdown",
      "metadata": {
        "id": "acgSZydF-ZiH"
      },
      "source": [
        "* You may be interested to generate \"constant\" random values\n",
        "  * **Run the example below multiple times, the random values will change**"
      ]
    },
    {
      "cell_type": "code",
      "metadata": {
        "id": "xFcW6u9d-aWZ"
      },
      "source": [
        "arr = np.random.randint(low=10,high=50,size=5)\n",
        "arr"
      ],
      "execution_count": null,
      "outputs": []
    },
    {
      "cell_type": "markdown",
      "metadata": {
        "id": "vI-MmNAG_CAg"
      },
      "source": [
        "* You need to set **numpy seed** in order to get constant random values\n",
        "  * In a jupyter notebook code cell, you just have to add np.seed() before defining your array(s)\n",
        "  * The argument is seed, a integer. You can set any integer\n",
        "  * **Run multiple times the cell below and note the array values will be the same**"
      ]
    },
    {
      "cell_type": "code",
      "metadata": {
        "id": "Rk1muz11_DSc"
      },
      "source": [
        "np.random.seed(seed=123)\n",
        "arr = np.random.randint(low=10,high=50,size=5)\n",
        "arr"
      ],
      "execution_count": null,
      "outputs": []
    },
    {
      "cell_type": "markdown",
      "metadata": {
        "id": "UVI47-ZFM50L"
      },
      "source": [
        "---"
      ]
    },
    {
      "cell_type": "markdown",
      "metadata": {
        "id": "weQiuBcJUEaF"
      },
      "source": [
        "## Array Methods"
      ]
    },
    {
      "cell_type": "markdown",
      "metadata": {
        "id": "jQxuj7VaOZbf"
      },
      "source": [
        "* You can reshape the array without changing the data within it using  .reshape() method.\n",
        "  * the example below shows a 1-d array, with shape 40. "
      ]
    },
    {
      "cell_type": "code",
      "metadata": {
        "id": "b9cjED2-UDg0"
      },
      "source": [
        "np.random.seed(seed=0)\n",
        "arr = np.random.randint(low=1,high=150,size=40)\n",
        "arr"
      ],
      "execution_count": null,
      "outputs": []
    },
    {
      "cell_type": "markdown",
      "metadata": {
        "id": "FbcqGgyq80II"
      },
      "source": [
        "* You can reshape as 4 x 10, transforming into a 2-d array"
      ]
    },
    {
      "cell_type": "code",
      "metadata": {
        "id": "VF20VM8dUWwQ"
      },
      "source": [
        "arr = arr.reshape(4,10)\n",
        "arr"
      ],
      "execution_count": null,
      "outputs": []
    },
    {
      "cell_type": "code",
      "metadata": {
        "id": "ED1EE-soahC1",
        "colab": {
          "base_uri": "https://localhost:8080/"
        },
        "outputId": "8102036d-38e7-41c3-a84f-a39f029cb690"
      },
      "source": [
        "arr.reshape(1,-1) #####"
      ],
      "execution_count": null,
      "outputs": [
        {
          "output_type": "execute_result",
          "data": {
            "text/plain": [
              "array([[ 48, 118,  68, 104,  10,  22,  37,  88,  71,  89]])"
            ]
          },
          "metadata": {
            "tags": []
          },
          "execution_count": 44
        }
      ]
    },
    {
      "cell_type": "markdown",
      "metadata": {
        "id": "7T4XVnJQXfSL"
      },
      "source": [
        "* There can be an opposite situation where you have a multidimensional array and want to transform to a 1-d array. You can use **flatten()** for it:"
      ]
    },
    {
      "cell_type": "code",
      "metadata": {
        "colab": {
          "base_uri": "https://localhost:8080/"
        },
        "id": "NWjz_M74Xgk5",
        "outputId": "6e932745-e4b2-4a9c-ac6f-c55703462529"
      },
      "source": [
        "np.random.seed(seed=0)\n",
        "arr = np.random.randint(low=1,high=150,size=(2,5))\n",
        "arr"
      ],
      "execution_count": null,
      "outputs": [
        {
          "output_type": "execute_result",
          "data": {
            "text/plain": [
              "array([[ 48, 118,  68, 104,  10],\n",
              "       [ 22,  37,  88,  71,  89]])"
            ]
          },
          "metadata": {
            "tags": []
          },
          "execution_count": 36
        }
      ]
    },
    {
      "cell_type": "code",
      "metadata": {
        "colab": {
          "base_uri": "https://localhost:8080/"
        },
        "id": "ec5twcgOXrQO",
        "outputId": "c61511ed-a8ed-4c50-fb86-3a495a1969d0"
      },
      "source": [
        "arr.flatten()"
      ],
      "execution_count": null,
      "outputs": [
        {
          "output_type": "execute_result",
          "data": {
            "text/plain": [
              "array([ 48, 118,  68, 104,  10,  22,  37,  88,  71,  89])"
            ]
          },
          "metadata": {
            "tags": []
          },
          "execution_count": 35
        }
      ]
    },
    {
      "cell_type": "code",
      "metadata": {
        "id": "eK2VZ7CjZ1t-",
        "colab": {
          "base_uri": "https://localhost:8080/"
        },
        "outputId": "0ccd8c72-6b37-421e-9ff8-1803a4133dd6"
      },
      "source": [
        "arr.reshape(-1)"
      ],
      "execution_count": null,
      "outputs": [
        {
          "output_type": "execute_result",
          "data": {
            "text/plain": [
              "array([ 48, 118,  68, 104,  10,  22,  37,  88,  71,  89])"
            ]
          },
          "metadata": {
            "tags": []
          },
          "execution_count": 43
        }
      ]
    },
    {
      "cell_type": "markdown",
      "metadata": {
        "id": "nQ2vz61PZki0"
      },
      "source": [
        "---"
      ]
    },
    {
      "cell_type": "markdown",
      "metadata": {
        "id": "4hsNlNT29TGd"
      },
      "source": [
        "* Min and Max values can be acessed using .min() and .max() methods."
      ]
    },
    {
      "cell_type": "code",
      "metadata": {
        "id": "6qiRng8BUW0-"
      },
      "source": [
        "arr.max()"
      ],
      "execution_count": null,
      "outputs": []
    },
    {
      "cell_type": "code",
      "metadata": {
        "id": "y4yMLMEyUd16"
      },
      "source": [
        "arr.min()"
      ],
      "execution_count": null,
      "outputs": []
    },
    {
      "cell_type": "markdown",
      "metadata": {
        "id": "MVeYO5nI9hK5"
      },
      "source": [
        "* You can determine the index position of the minimum or maximum value in the darray along a particular axis using the argmin() and argmax() methods"
      ]
    },
    {
      "cell_type": "code",
      "metadata": {
        "id": "ljtDjMttUdzg"
      },
      "source": [
        "arr.argmax()"
      ],
      "execution_count": null,
      "outputs": []
    },
    {
      "cell_type": "code",
      "metadata": {
        "id": "G0wkKfQ3Ukro"
      },
      "source": [
        "arr.argmin()"
      ],
      "execution_count": null,
      "outputs": []
    },
    {
      "cell_type": "markdown",
      "metadata": {
        "id": "fm6EAXMkM6kx"
      },
      "source": [
        "---"
      ]
    },
    {
      "cell_type": "markdown",
      "metadata": {
        "id": "KJn40oefVDiR"
      },
      "source": [
        "## Array Attributes"
      ]
    },
    {
      "cell_type": "markdown",
      "metadata": {
        "id": "Fb6PMRHCWoCX"
      },
      "source": [
        "*  You can check the shape and type of a NumPy array using, respectively, the attributes **.shape** and **.dtype**"
      ]
    },
    {
      "cell_type": "code",
      "metadata": {
        "id": "ryyQ3pRFWsms"
      },
      "source": [
        "arr = np.arange(start=1,stop=11,step=1).reshape(5,2)\n",
        "\n",
        "print(\n",
        "    f\"* Array:\\n {arr} \\n\\n\"\n",
        "    f\"* Array shape: \\n {arr.shape} \\n\\n\"\n",
        "    f\"* Array type: \\n {arr.dtype}\"\n",
        "    )"
      ],
      "execution_count": null,
      "outputs": []
    },
    {
      "cell_type": "markdown",
      "metadata": {
        "id": "SSuVnDJDM7Qu"
      },
      "source": [
        "---"
      ]
    },
    {
      "cell_type": "markdown",
      "metadata": {
        "id": "WzhIShV6kPo9"
      },
      "source": [
        "## Exercises"
      ]
    },
    {
      "cell_type": "markdown",
      "metadata": {
        "id": "YoJLUJ5ANoxI"
      },
      "source": [
        "### 1"
      ]
    },
    {
      "cell_type": "markdown",
      "metadata": {
        "id": "Ksvs2USUkZHD"
      },
      "source": [
        "* Define the numpy seed=1.\n",
        "* In a variable called **arr**, Create a 2-d array, 4 x 4, with random integers, where the lowest value is 1 and the max 100 (inclusive).\n",
        "* In a print() statement, display the array"
      ]
    },
    {
      "cell_type": "code",
      "metadata": {
        "id": "3gsDPEeoOni0"
      },
      "source": [
        "np.random.seed(seed=1)\n",
        "arr = np.random.randint(low=1,high=101,size=(4,4))\n",
        "print(arr)"
      ],
      "execution_count": null,
      "outputs": []
    },
    {
      "cell_type": "markdown",
      "metadata": {
        "id": "bJqYkGbNNt6G"
      },
      "source": [
        "### 2"
      ]
    },
    {
      "cell_type": "markdown",
      "metadata": {
        "id": "IsCn32iHmWmu"
      },
      "source": [
        "* Using your NumPy knowledge, and python knowledge with print statment function and displaying variables using f-string, create the following statement:\n",
        "  * **\"The max value for the array is 80 and its index location is 6. The min value for the array is 2 and its index location is 9.\"**"
      ]
    },
    {
      "cell_type": "code",
      "metadata": {
        "id": "gPVwbYdKkW0O"
      },
      "source": [
        "print(\n",
        "    f\"The max value for the array is {arr.max()} and its index location is {arr.argmax()}. \"\n",
        "    f\"The min value for the array is {arr.min()} and its index location is {arr.argmin()}.\"\n",
        "    )"
      ],
      "execution_count": null,
      "outputs": []
    },
    {
      "cell_type": "markdown",
      "metadata": {
        "id": "bL1DRo6BM8BU"
      },
      "source": [
        "---"
      ]
    },
    {
      "cell_type": "markdown",
      "metadata": {
        "id": "zJvmit2KPXMx"
      },
      "source": [
        "# Lesson 02"
      ]
    },
    {
      "cell_type": "markdown",
      "metadata": {
        "id": "R3EkgoTwaZY_"
      },
      "source": [
        "## Lesson Objectives\n",
        "* Perform Array Indexing and Selecting\n",
        "\n",
        "\n",
        "<img src=\"https://raw.githubusercontent.com/numpy/numpy/181f273a59744d58f90f45d953a3285484c72cba/branding/logo/primary/numpylogo.svg\" width=\"25%\" height=\"25%\" />"
      ]
    },
    {
      "cell_type": "markdown",
      "metadata": {
        "id": "kl7s9KGWNnje"
      },
      "source": [
        "---"
      ]
    },
    {
      "cell_type": "markdown",
      "metadata": {
        "id": "RhaANRQHJs_A"
      },
      "source": [
        "## Import Package"
      ]
    },
    {
      "cell_type": "markdown",
      "metadata": {
        "id": "z0e7IChDJs_H"
      },
      "source": [
        "* Colab offers a session with a set of packages already installed. To check which packages are installed type in a code cell **!pip freeze** and run it. In case NumPy is not installed, you may type and run in a code cell **!pip install numpy**\n",
        "* NumPy should be already incluced in this set of packages. You will just need to import it."
      ]
    },
    {
      "cell_type": "code",
      "metadata": {
        "id": "-6mTWe4eJs_I"
      },
      "source": [
        "import numpy as np"
      ],
      "execution_count": null,
      "outputs": []
    },
    {
      "cell_type": "markdown",
      "metadata": {
        "id": "8hY8DRXvNoU5"
      },
      "source": [
        "---"
      ]
    },
    {
      "cell_type": "markdown",
      "metadata": {
        "id": "jwORqX3PS7Y_"
      },
      "source": [
        "## Python lists vs Numpy Arrays"
      ]
    },
    {
      "cell_type": "markdown",
      "metadata": {
        "id": "Gz-zJBAJTAIu"
      },
      "source": [
        "* **Why not using python lists instead of these NumPy arrays?**\n",
        "\n",
        "  * Python lists can store elements of various types, like numbers, texts or date for example. \n",
        "  * These lists are essentially an array of pointers, indicating to a location that has the information related to the information. **Unfortunately, such approach is extremly expensive in terms of memory and computation.**\n",
        "\n",
        "  ---\n",
        "\n",
        "    * To get better on it, NumPy arrays has only homogeneous elements (same data type). **This makes it more efficient for manipulating the elements**. \n",
        "\n",
        "  ---\n",
        "\n",
        "    * Imagine now if you have a huge amount of elements, like millions. **NumPy can perform element-wise operations**, a feature not possible using Python list.\n",
        "\n",
        "    * This is the major aspect on why NumPy arrays are more insteresting than Python lists for performing mathematical operations on a large amount of data."
      ]
    },
    {
      "cell_type": "markdown",
      "metadata": {
        "id": "GDssTE1OPuRi"
      },
      "source": [
        "## Indexing Arrays"
      ]
    },
    {
      "cell_type": "markdown",
      "metadata": {
        "id": "U_vrDH9oe6eY"
      },
      "source": [
        "* index 1d array\n",
        "* indexx 2d array\n",
        "* index 3d array\n",
        "* negative slicing\n"
      ]
    },
    {
      "cell_type": "markdown",
      "metadata": {
        "id": "nAslIunVgte8"
      },
      "source": [
        "### 1-d arrays"
      ]
    },
    {
      "cell_type": "markdown",
      "metadata": {
        "id": "2Koo82msg0qz"
      },
      "source": [
        "* Let's create a simple 1-d array"
      ]
    },
    {
      "cell_type": "code",
      "metadata": {
        "id": "Ct4UxKAkUd4v",
        "outputId": "1b0fa631-3cad-4076-f22e-55ef26aa6ded",
        "colab": {
          "base_uri": "https://localhost:8080/"
        }
      },
      "source": [
        "arr = np.arange(start=0,stop=26,step=2)\n",
        "arr "
      ],
      "execution_count": 63,
      "outputs": [
        {
          "output_type": "execute_result",
          "data": {
            "text/plain": [
              "array([ 0,  2,  4,  6,  8, 10, 12, 14, 16, 18, 20, 22, 24])"
            ]
          },
          "metadata": {
            "tags": []
          },
          "execution_count": 63
        }
      ]
    },
    {
      "cell_type": "markdown",
      "metadata": {
        "id": "8pF-LyJhhOe6"
      },
      "source": [
        "* Retrieve a value in a index position\n",
        "* Remember that the first position in the array is the index 0"
      ]
    },
    {
      "cell_type": "code",
      "metadata": {
        "id": "ADuv_WcoNbvq",
        "outputId": "6dff91d4-3000-4669-b299-9d305654248b",
        "colab": {
          "base_uri": "https://localhost:8080/"
        }
      },
      "source": [
        "arr[8]"
      ],
      "execution_count": 64,
      "outputs": [
        {
          "output_type": "execute_result",
          "data": {
            "text/plain": [
              "16"
            ]
          },
          "metadata": {
            "tags": []
          },
          "execution_count": 64
        }
      ]
    },
    {
      "cell_type": "code",
      "metadata": {
        "id": "75VagDIVhl6W",
        "outputId": "192ffb4b-41ae-47be-e910-c1f423f17a74",
        "colab": {
          "base_uri": "https://localhost:8080/"
        }
      },
      "source": [
        "arr[0]"
      ],
      "execution_count": 55,
      "outputs": [
        {
          "output_type": "execute_result",
          "data": {
            "text/plain": [
              "0"
            ]
          },
          "metadata": {
            "tags": []
          },
          "execution_count": 55
        }
      ]
    },
    {
      "cell_type": "markdown",
      "metadata": {
        "id": "G5YB-W_dhpBB"
      },
      "source": [
        "* Retrieve data in a range\n",
        "    * In the example below, it starts in the index position 1 (inclusive) and go up to index position 5 (exclusive)"
      ]
    },
    {
      "cell_type": "code",
      "metadata": {
        "id": "5drf2T8OQPrZ",
        "outputId": "6739cc89-bde2-4879-fa71-0c4102a4995c",
        "colab": {
          "base_uri": "https://localhost:8080/"
        }
      },
      "source": [
        "arr[1:5]"
      ],
      "execution_count": 65,
      "outputs": [
        {
          "output_type": "execute_result",
          "data": {
            "text/plain": [
              "array([2, 4, 6, 8])"
            ]
          },
          "metadata": {
            "tags": []
          },
          "execution_count": 65
        }
      ]
    },
    {
      "cell_type": "markdown",
      "metadata": {
        "id": "PYjj-P0AiLIf"
      },
      "source": [
        "* Get values in a range, it starts at index 0 and go until index 5 (exclusive) \n",
        "* Not assigning the position before the \":\" indicates to start from 0."
      ]
    },
    {
      "cell_type": "code",
      "metadata": {
        "id": "N6P8T3teQRne",
        "outputId": "4c219440-2afb-40cb-994d-86660e527926",
        "colab": {
          "base_uri": "https://localhost:8080/"
        }
      },
      "source": [
        "arr[:5]"
      ],
      "execution_count": 66,
      "outputs": [
        {
          "output_type": "execute_result",
          "data": {
            "text/plain": [
              "array([0, 2, 4, 6, 8])"
            ]
          },
          "metadata": {
            "tags": []
          },
          "execution_count": 66
        }
      ]
    },
    {
      "cell_type": "markdown",
      "metadata": {
        "id": "WDt9XwEoikxY"
      },
      "source": [
        "* Similarly when there is no index mention after the \":\", it considers until the end\n",
        "* In this case, it indexes from positon 10 until the end "
      ]
    },
    {
      "cell_type": "code",
      "metadata": {
        "id": "bxz3kY9zQV7m",
        "outputId": "647a0cf3-7f20-48da-cb3a-e1adaf043332",
        "colab": {
          "base_uri": "https://localhost:8080/"
        }
      },
      "source": [
        "arr[10:]"
      ],
      "execution_count": 67,
      "outputs": [
        {
          "output_type": "execute_result",
          "data": {
            "text/plain": [
              "array([20, 22, 24])"
            ]
          },
          "metadata": {
            "tags": []
          },
          "execution_count": 67
        }
      ]
    },
    {
      "cell_type": "markdown",
      "metadata": {
        "id": "lrVdptyYNo4s"
      },
      "source": [
        "---"
      ]
    },
    {
      "cell_type": "markdown",
      "metadata": {
        "id": "zI_mCs-zSfxg"
      },
      "source": [
        "### 2-d arrays"
      ]
    },
    {
      "cell_type": "markdown",
      "metadata": {
        "id": "qY4n103pjdAk"
      },
      "source": [
        "* Let's consider the 2-d array"
      ]
    },
    {
      "cell_type": "code",
      "metadata": {
        "id": "7lucwWq-SYlJ",
        "colab": {
          "base_uri": "https://localhost:8080/"
        },
        "outputId": "6b7770f8-df72-476f-d664-02d500f2f300"
      },
      "source": [
        "np.random.seed(seed=101)\n",
        "arr = np.random.randint(low=10,high=50,size=(3,5))\n",
        "arr"
      ],
      "execution_count": 76,
      "outputs": [
        {
          "output_type": "execute_result",
          "data": {
            "text/plain": [
              "array([[41, 21, 27, 16, 33],\n",
              "       [21, 19, 23, 14, 38],\n",
              "       [10, 15, 22, 39, 29]])"
            ]
          },
          "metadata": {
            "tags": []
          },
          "execution_count": 76
        }
      ]
    },
    {
      "cell_type": "markdown",
      "metadata": {
        "id": "9JtDvT9pjs-f"
      },
      "source": [
        "* Retrieving single element\n",
        "    * In this case, the row is at index position 1, and column is at index position 0"
      ]
    },
    {
      "cell_type": "code",
      "metadata": {
        "id": "7cKAxyItS2pQ",
        "colab": {
          "base_uri": "https://localhost:8080/"
        },
        "outputId": "8a45d5fd-5bba-4e68-eda8-ade081afd1c8"
      },
      "source": [
        "arr[1,0]"
      ],
      "execution_count": 77,
      "outputs": [
        {
          "output_type": "execute_result",
          "data": {
            "text/plain": [
              "21"
            ]
          },
          "metadata": {
            "tags": []
          },
          "execution_count": 77
        }
      ]
    },
    {
      "cell_type": "markdown",
      "metadata": {
        "id": "tg6gQQ5ukMnr"
      },
      "source": [
        "* Indexing a full row\n",
        "  * In this case, the row at index 1"
      ]
    },
    {
      "cell_type": "code",
      "metadata": {
        "id": "kzpE9Y5BSvL-",
        "colab": {
          "base_uri": "https://localhost:8080/"
        },
        "outputId": "f0d77786-a9d4-409e-c5ba-e2e6b9ae62c7"
      },
      "source": [
        "arr[1,:]"
      ],
      "execution_count": 78,
      "outputs": [
        {
          "output_type": "execute_result",
          "data": {
            "text/plain": [
              "array([21, 19, 23, 14, 38])"
            ]
          },
          "metadata": {
            "tags": []
          },
          "execution_count": 78
        }
      ]
    },
    {
      "cell_type": "markdown",
      "metadata": {
        "id": "UL7y3HRYkV38"
      },
      "source": [
        "* Indexing a full column\n",
        "  * In this case, the columns at index 3"
      ]
    },
    {
      "cell_type": "code",
      "metadata": {
        "id": "Alj8ap_jkdIi",
        "outputId": "3dece3d0-9c9a-41db-f1d5-908a3ce31534",
        "colab": {
          "base_uri": "https://localhost:8080/"
        }
      },
      "source": [
        "arr[:,3]"
      ],
      "execution_count": 79,
      "outputs": [
        {
          "output_type": "execute_result",
          "data": {
            "text/plain": [
              "array([16, 14, 39])"
            ]
          },
          "metadata": {
            "tags": []
          },
          "execution_count": 79
        }
      ]
    },
    {
      "cell_type": "markdown",
      "metadata": {
        "id": "0XjYOaKIkiuq"
      },
      "source": [
        "  * Slice Rows and Columns\n",
        "    * In this case, rows from zero to 2 (exclusive) and columns from 1 until the end"
      ]
    },
    {
      "cell_type": "code",
      "metadata": {
        "id": "GqGLZOtrk6Cn",
        "outputId": "f256a9be-bcd2-4c8b-f599-0eb65b926918",
        "colab": {
          "base_uri": "https://localhost:8080/"
        }
      },
      "source": [
        "arr"
      ],
      "execution_count": 82,
      "outputs": [
        {
          "output_type": "execute_result",
          "data": {
            "text/plain": [
              "array([[41, 21, 27, 16, 33],\n",
              "       [21, 19, 23, 14, 38],\n",
              "       [10, 15, 22, 39, 29]])"
            ]
          },
          "metadata": {
            "tags": []
          },
          "execution_count": 82
        }
      ]
    },
    {
      "cell_type": "code",
      "metadata": {
        "id": "-4Y8tTnIS7Ij",
        "colab": {
          "base_uri": "https://localhost:8080/"
        },
        "outputId": "fc62e0a5-d3a7-4ce7-d555-66b14d48a540"
      },
      "source": [
        "arr[:2,1:]"
      ],
      "execution_count": 80,
      "outputs": [
        {
          "output_type": "execute_result",
          "data": {
            "text/plain": [
              "array([[21, 27, 16, 33],\n",
              "       [19, 23, 14, 38]])"
            ]
          },
          "metadata": {
            "tags": []
          },
          "execution_count": 80
        }
      ]
    },
    {
      "cell_type": "markdown",
      "metadata": {
        "id": "mSKi9RzBomIQ"
      },
      "source": [
        "### 3-d array"
      ]
    },
    {
      "cell_type": "markdown",
      "metadata": {
        "id": "2BNk1xbHpC5F"
      },
      "source": [
        "* Let's create a 3-d array\n",
        "  * In this example, imagine if there is 3 arrays, in parallel, of 2x4"
      ]
    },
    {
      "cell_type": "code",
      "metadata": {
        "id": "lL-TdWlhXSAN",
        "outputId": "95ccf94d-e887-4f5e-810e-c50b172de150",
        "colab": {
          "base_uri": "https://localhost:8080/"
        }
      },
      "source": [
        "np.random.seed(seed=101)\n",
        "arr = np.random.randint(low=10,high=50,size=(3,2,4))\n",
        "arr"
      ],
      "execution_count": 85,
      "outputs": [
        {
          "output_type": "execute_result",
          "data": {
            "text/plain": [
              "array([[[41, 21, 27, 16],\n",
              "        [33, 21, 19, 23]],\n",
              "\n",
              "       [[14, 38, 10, 15],\n",
              "        [22, 39, 29, 18]],\n",
              "\n",
              "       [[39, 44, 18, 29],\n",
              "        [20, 22, 41, 33]]])"
            ]
          },
          "metadata": {
            "tags": []
          },
          "execution_count": 85
        }
      ]
    },
    {
      "cell_type": "code",
      "metadata": {
        "id": "t8iqSyE1pPu-"
      },
      "source": [
        ""
      ],
      "execution_count": null,
      "outputs": []
    },
    {
      "cell_type": "code",
      "metadata": {
        "id": "fIwURNfupP7O"
      },
      "source": [
        ""
      ],
      "execution_count": null,
      "outputs": []
    },
    {
      "cell_type": "code",
      "metadata": {
        "id": "Zvb8cB7epQKj"
      },
      "source": [
        ""
      ],
      "execution_count": null,
      "outputs": []
    },
    {
      "cell_type": "markdown",
      "metadata": {
        "id": "KMM4zbmjpQfz"
      },
      "source": [
        "### Negative Slicing"
      ]
    },
    {
      "cell_type": "markdown",
      "metadata": {
        "id": "hIVXlAxyNqQx"
      },
      "source": [
        "---"
      ]
    },
    {
      "cell_type": "code",
      "metadata": {
        "id": "kByxvpxTpTTx"
      },
      "source": [
        ""
      ],
      "execution_count": null,
      "outputs": []
    },
    {
      "cell_type": "code",
      "metadata": {
        "id": "3CJ9WNdlpTWu"
      },
      "source": [
        ""
      ],
      "execution_count": null,
      "outputs": []
    },
    {
      "cell_type": "markdown",
      "metadata": {
        "id": "v2yL5IgqTgZb"
      },
      "source": [
        "## Selecting an array"
      ]
    },
    {
      "cell_type": "code",
      "metadata": {
        "id": "OeFP3E10TD1M"
      },
      "source": [
        "np.random.seed(seed=10)\n",
        "arr = np.random.randint(low=1,high=25,size=15).reshape(3,5)\n",
        "arr"
      ],
      "execution_count": null,
      "outputs": []
    },
    {
      "cell_type": "code",
      "metadata": {
        "id": "qOipBpaMT4k1"
      },
      "source": [
        "arr > 10"
      ],
      "execution_count": null,
      "outputs": []
    },
    {
      "cell_type": "code",
      "metadata": {
        "id": "5GjAczWKUk7T"
      },
      "source": [
        "arr[arr>10]"
      ],
      "execution_count": null,
      "outputs": []
    },
    {
      "cell_type": "markdown",
      "metadata": {
        "id": "LxPJ03ufNq3a"
      },
      "source": [
        "---"
      ]
    },
    {
      "cell_type": "markdown",
      "metadata": {
        "id": "YMjOPV8eUyy8"
      },
      "source": [
        "# Lesson 03"
      ]
    },
    {
      "cell_type": "markdown",
      "metadata": {
        "id": "CBWv2R0JMaNn"
      },
      "source": [
        "## Lesson Objectives\n",
        "* xxxx\n",
        "* xxxx\n",
        "* xxxx\n",
        "\n",
        "<img src=\"https://raw.githubusercontent.com/numpy/numpy/181f273a59744d58f90f45d953a3285484c72cba/branding/logo/primary/numpylogo.svg\" width=\"25%\" height=\"25%\" />"
      ]
    },
    {
      "cell_type": "markdown",
      "metadata": {
        "id": "h5IXG_0qNrgM"
      },
      "source": [
        "---"
      ]
    },
    {
      "cell_type": "markdown",
      "metadata": {
        "id": "2eoV15uiJvCw"
      },
      "source": [
        "## Import Package"
      ]
    },
    {
      "cell_type": "markdown",
      "metadata": {
        "id": "hb92tOVDJvCw"
      },
      "source": [
        "* Colab offers a session with a set of packages already installed. To check which packages are installed type in a code cell **!pip freeze** and run it. In case NumPy is not installed, you may type and run in a code cell **!pip install numpy**\n",
        "* NumPy should be already incluced in this set of packages. You will just need to import it."
      ]
    },
    {
      "cell_type": "code",
      "metadata": {
        "id": "ggw1IWiqJvCx"
      },
      "source": [
        "import numpy as np"
      ],
      "execution_count": null,
      "outputs": []
    },
    {
      "cell_type": "markdown",
      "metadata": {
        "id": "xbOEdhaZNr95"
      },
      "source": [
        "---"
      ]
    },
    {
      "cell_type": "markdown",
      "metadata": {
        "id": "WaSjUGvVVDbj"
      },
      "source": [
        "## Operations"
      ]
    },
    {
      "cell_type": "code",
      "metadata": {
        "id": "ZkHGWZBEUpkb"
      },
      "source": [
        "arr = np.random.randint(low=-3,high=25,size=15).reshape(3,5)\n",
        "arr"
      ],
      "execution_count": null,
      "outputs": []
    },
    {
      "cell_type": "code",
      "metadata": {
        "id": "I8QMvdAAVHjK"
      },
      "source": [
        "arr + arr\n"
      ],
      "execution_count": null,
      "outputs": []
    },
    {
      "cell_type": "code",
      "metadata": {
        "id": "MNMDJuoEAUwd"
      },
      "source": [
        "arr * arr"
      ],
      "execution_count": null,
      "outputs": []
    },
    {
      "cell_type": "code",
      "metadata": {
        "id": "yggpq1jYAgtm"
      },
      "source": [
        "arr - arr"
      ],
      "execution_count": null,
      "outputs": []
    },
    {
      "cell_type": "code",
      "metadata": {
        "id": "PTiLB487AiYZ"
      },
      "source": [
        "# Just replaced with nan\n",
        "arr/arr"
      ],
      "execution_count": null,
      "outputs": []
    },
    {
      "cell_type": "code",
      "metadata": {
        "id": "YBKkVRg6AkOV"
      },
      "source": [
        "1/arr"
      ],
      "execution_count": null,
      "outputs": []
    },
    {
      "cell_type": "code",
      "metadata": {
        "id": "-JAnB9h5AqRp"
      },
      "source": [
        "arr**3"
      ],
      "execution_count": null,
      "outputs": []
    },
    {
      "cell_type": "markdown",
      "metadata": {
        "id": "pMUYHr-tNslm"
      },
      "source": [
        "---"
      ]
    },
    {
      "cell_type": "markdown",
      "metadata": {
        "id": "G45witOfA44n"
      },
      "source": [
        "## Universal Functions"
      ]
    },
    {
      "cell_type": "code",
      "metadata": {
        "id": "jGY02my8AsUg"
      },
      "source": [
        "# https://numpy.org/doc/stable/reference/ufuncs.html"
      ],
      "execution_count": null,
      "outputs": []
    },
    {
      "cell_type": "code",
      "metadata": {
        "id": "zjc_KcVYCFBo"
      },
      "source": [
        "arr = np.random.randint(low=-3,high=25,size=15).reshape(3,5)\n",
        "arr"
      ],
      "execution_count": null,
      "outputs": []
    },
    {
      "cell_type": "code",
      "metadata": {
        "id": "6FC61u5WA7sD"
      },
      "source": [
        "np.sqrt(arr)"
      ],
      "execution_count": null,
      "outputs": []
    },
    {
      "cell_type": "code",
      "metadata": {
        "id": "JO0kRbqlA9gt"
      },
      "source": [
        "np.exp(arr)"
      ],
      "execution_count": null,
      "outputs": []
    },
    {
      "cell_type": "code",
      "metadata": {
        "id": "-NfskVMoBBzA"
      },
      "source": [
        "np.max(arr)"
      ],
      "execution_count": null,
      "outputs": []
    },
    {
      "cell_type": "code",
      "metadata": {
        "id": "dG3QLFP7BDvn"
      },
      "source": [
        "np.sin(arr)"
      ],
      "execution_count": null,
      "outputs": []
    },
    {
      "cell_type": "code",
      "metadata": {
        "id": "NSnXFG-sBFbk"
      },
      "source": [
        "np.log(arr)"
      ],
      "execution_count": null,
      "outputs": []
    },
    {
      "cell_type": "code",
      "metadata": {
        "id": "ty-rntmBCAip"
      },
      "source": [
        "np.std(arr)"
      ],
      "execution_count": null,
      "outputs": []
    },
    {
      "cell_type": "markdown",
      "metadata": {
        "id": "i7weP4l8gUr8"
      },
      "source": [
        "---"
      ]
    },
    {
      "cell_type": "markdown",
      "metadata": {
        "id": "dv_ZVMEFgOdC"
      },
      "source": [
        "## Extra content: NumPy and Images"
      ]
    },
    {
      "cell_type": "code",
      "metadata": {
        "id": "9_KBac8hplkl"
      },
      "source": [
        "import numpy as np\n",
        "import matplotlib.pyplot as plt\n",
        "from scipy import misc\n",
        "im = misc."
      ],
      "execution_count": 90,
      "outputs": []
    },
    {
      "cell_type": "code",
      "metadata": {
        "id": "us28HGJrqlbT",
        "outputId": "e8cadc02-b02c-43cf-c024-f31b351f8b24",
        "colab": {
          "base_uri": "https://localhost:8080/",
          "height": 201
        }
      },
      "source": [
        "from urllib.request import urlopen\n",
        "# from scipy.misc import imread\n",
        "\n",
        "url = 'https://encrypted-tbn0.gstatic.com/images?q=tbn:ANd9GcRtUPjSSDzevfy47QqVpd8v2Nrt49QNIXeAfE9ntEwYKJtnDZabwg'\n",
        "\n",
        "with urlopen(url) as file:\n",
        "    img = misc.imread(file, mode='RGB')"
      ],
      "execution_count": 91,
      "outputs": [
        {
          "output_type": "error",
          "ename": "AttributeError",
          "evalue": "ignored",
          "traceback": [
            "\u001b[0;31m---------------------------------------------------------------------------\u001b[0m",
            "\u001b[0;31mAttributeError\u001b[0m                            Traceback (most recent call last)",
            "\u001b[0;32m<ipython-input-91-9c8600a35ca6>\u001b[0m in \u001b[0;36m<module>\u001b[0;34m()\u001b[0m\n\u001b[1;32m      5\u001b[0m \u001b[0;34m\u001b[0m\u001b[0m\n\u001b[1;32m      6\u001b[0m \u001b[0;32mwith\u001b[0m \u001b[0murlopen\u001b[0m\u001b[0;34m(\u001b[0m\u001b[0murl\u001b[0m\u001b[0;34m)\u001b[0m \u001b[0;32mas\u001b[0m \u001b[0mfile\u001b[0m\u001b[0;34m:\u001b[0m\u001b[0;34m\u001b[0m\u001b[0;34m\u001b[0m\u001b[0m\n\u001b[0;32m----> 7\u001b[0;31m     \u001b[0mimg\u001b[0m \u001b[0;34m=\u001b[0m \u001b[0mmisc\u001b[0m\u001b[0;34m.\u001b[0m\u001b[0mimread\u001b[0m\u001b[0;34m(\u001b[0m\u001b[0mfile\u001b[0m\u001b[0;34m,\u001b[0m \u001b[0mmode\u001b[0m\u001b[0;34m=\u001b[0m\u001b[0;34m'RGB'\u001b[0m\u001b[0;34m)\u001b[0m\u001b[0;34m\u001b[0m\u001b[0;34m\u001b[0m\u001b[0m\n\u001b[0m",
            "\u001b[0;31mAttributeError\u001b[0m: module 'scipy.misc' has no attribute 'imread'"
          ]
        }
      ]
    },
    {
      "cell_type": "code",
      "metadata": {
        "id": "z-EcLd7uqQKq",
        "outputId": "ce8dcad6-1b52-43b8-e8a5-8eb809f075d1",
        "colab": {
          "base_uri": "https://localhost:8080/",
          "height": 375
        }
      },
      "source": [
        "from scipy import ndimage\n",
        "from scipy import misc\n",
        "import urllib2\n",
        "import cStringIO\n",
        "\n",
        "url = \\\n",
        "    \"https://maps.googleapis.com/maps/api/staticmap?maptype=satellite&\" \\\n",
        "    \"center=37.530101,38.600062&\" \\\n",
        "    \"zoom=14&\" \\\n",
        "    \"size=256x278&\" \\\n",
        "    \"key=....\"\n",
        "\n",
        "fi = cStringIO.StringIO(urllib2.urlopen(url).read())\n",
        "image = misc.imread(fi)\n",
        "image"
      ],
      "execution_count": 87,
      "outputs": [
        {
          "output_type": "error",
          "ename": "ModuleNotFoundError",
          "evalue": "ignored",
          "traceback": [
            "\u001b[0;31m---------------------------------------------------------------------------\u001b[0m",
            "\u001b[0;31mModuleNotFoundError\u001b[0m                       Traceback (most recent call last)",
            "\u001b[0;32m<ipython-input-87-27e6fea4b1f8>\u001b[0m in \u001b[0;36m<module>\u001b[0;34m()\u001b[0m\n\u001b[1;32m      1\u001b[0m \u001b[0;32mfrom\u001b[0m \u001b[0mscipy\u001b[0m \u001b[0;32mimport\u001b[0m \u001b[0mndimage\u001b[0m\u001b[0;34m\u001b[0m\u001b[0;34m\u001b[0m\u001b[0m\n\u001b[1;32m      2\u001b[0m \u001b[0;32mfrom\u001b[0m \u001b[0mscipy\u001b[0m \u001b[0;32mimport\u001b[0m \u001b[0mmisc\u001b[0m\u001b[0;34m\u001b[0m\u001b[0;34m\u001b[0m\u001b[0m\n\u001b[0;32m----> 3\u001b[0;31m \u001b[0;32mimport\u001b[0m \u001b[0murllib2\u001b[0m\u001b[0;34m\u001b[0m\u001b[0;34m\u001b[0m\u001b[0m\n\u001b[0m\u001b[1;32m      4\u001b[0m \u001b[0;32mimport\u001b[0m \u001b[0mcStringIO\u001b[0m\u001b[0;34m\u001b[0m\u001b[0;34m\u001b[0m\u001b[0m\n\u001b[1;32m      5\u001b[0m \u001b[0;34m\u001b[0m\u001b[0m\n",
            "\u001b[0;31mModuleNotFoundError\u001b[0m: No module named 'urllib2'",
            "",
            "\u001b[0;31m---------------------------------------------------------------------------\u001b[0;32m\nNOTE: If your import is failing due to a missing package, you can\nmanually install dependencies using either !pip or !apt.\n\nTo view examples of installing some common dependencies, click the\n\"Open Examples\" button below.\n\u001b[0;31m---------------------------------------------------------------------------\u001b[0m\n"
          ]
        }
      ]
    },
    {
      "cell_type": "markdown",
      "metadata": {
        "id": "XzObpO-MgTW5"
      },
      "source": [
        ""
      ]
    },
    {
      "cell_type": "markdown",
      "metadata": {
        "id": "hDInQQ5wNtSS"
      },
      "source": [
        "---"
      ]
    },
    {
      "cell_type": "markdown",
      "metadata": {
        "id": "cPRX9DUbBIw_"
      },
      "source": [
        "# Exercises"
      ]
    },
    {
      "cell_type": "markdown",
      "metadata": {
        "id": "J51oqU4qMdT7"
      },
      "source": [
        "## Lesson Objectives\n",
        "* xxxx\n",
        "* xxxx\n",
        "* xxxx\n",
        "\n",
        "<img src=\"https://raw.githubusercontent.com/numpy/numpy/181f273a59744d58f90f45d953a3285484c72cba/branding/logo/primary/numpylogo.svg\" width=\"25%\" height=\"25%\" />"
      ]
    },
    {
      "cell_type": "markdown",
      "metadata": {
        "id": "3TxcndblNuAt"
      },
      "source": [
        "---"
      ]
    },
    {
      "cell_type": "markdown",
      "metadata": {
        "id": "kwm9o-fSJwBV"
      },
      "source": [
        "## Import Package"
      ]
    },
    {
      "cell_type": "markdown",
      "metadata": {
        "id": "BzZPRY2QJwBV"
      },
      "source": [
        "* Colab offers a session with a set of packages already installed. To check which packages are installed type in a code cell **!pip freeze** and run it. In case NumPy is not installed, you may type and run in a code cell **!pip install numpy**\n",
        "* NumPy should be already incluced in this set of packages. You will just need to import it."
      ]
    },
    {
      "cell_type": "code",
      "metadata": {
        "id": "pmleehGfJwBW"
      },
      "source": [
        "import numpy as np"
      ],
      "execution_count": null,
      "outputs": []
    },
    {
      "cell_type": "markdown",
      "metadata": {
        "id": "mPaPbWX3NvBQ"
      },
      "source": [
        "---"
      ]
    },
    {
      "cell_type": "code",
      "metadata": {
        "id": "04Y-nlSYBGxY"
      },
      "source": [
        "#### Create an array of 10 zeros \n",
        "np.zeros(10)"
      ],
      "execution_count": null,
      "outputs": []
    },
    {
      "cell_type": "code",
      "metadata": {
        "id": "R9jTYdSFCQQa"
      },
      "source": [
        "#### Create an array of 10 ones\n",
        "np.ones(10)"
      ],
      "execution_count": null,
      "outputs": []
    },
    {
      "cell_type": "code",
      "metadata": {
        "id": "_2gWSALJCVwA"
      },
      "source": [
        "#### Create an array of 10 fives\n",
        "np.ones(10) * 5"
      ],
      "execution_count": null,
      "outputs": []
    },
    {
      "cell_type": "code",
      "metadata": {
        "id": "b0k2-Jd4Cbjx"
      },
      "source": [
        "#### Create an array of 10 integers from 10 to 50\n",
        "np.random.randint(10,50,10)"
      ],
      "execution_count": null,
      "outputs": []
    },
    {
      "cell_type": "code",
      "metadata": {
        "id": "6gzi_uZACiGy"
      },
      "source": [
        "#### Create an array of all the even integers from 10 to 50 (including 50)\n",
        "np.arange(10,51,2)"
      ],
      "execution_count": null,
      "outputs": []
    },
    {
      "cell_type": "code",
      "metadata": {
        "id": "bsHO3b99Ctsd"
      },
      "source": [
        "#### Create a 3x3 matrix with values ranging from 0 to 8\n",
        "np.arange(9).reshape(3,3)"
      ],
      "execution_count": null,
      "outputs": []
    },
    {
      "cell_type": "code",
      "metadata": {
        "id": "JtECi1duCyXz"
      },
      "source": [
        "#### Create a 3x3 identity matrix\n",
        "np.eye(3)"
      ],
      "execution_count": null,
      "outputs": []
    },
    {
      "cell_type": "code",
      "metadata": {
        "id": "_uYO2BPpC1Gt"
      },
      "source": [
        "#### Use NumPy to generate a random number between 0 and 1\n",
        "np.random.rand(1)"
      ],
      "execution_count": null,
      "outputs": []
    },
    {
      "cell_type": "code",
      "metadata": {
        "id": "w3DYIBi7C31K"
      },
      "source": [
        "#### Use NumPy to generate an array of 25 random numbers sampled from a standard normal distribution\n",
        "arr = np.random.randn(500)"
      ],
      "execution_count": null,
      "outputs": []
    },
    {
      "cell_type": "code",
      "metadata": {
        "id": "uCMD9AQ9DAZm"
      },
      "source": [
        "import matplotlib.pyplot as plt\n",
        "plt.hist(x=arr,bins=50);"
      ],
      "execution_count": null,
      "outputs": []
    },
    {
      "cell_type": "code",
      "metadata": {
        "id": "66qmpK54ES0u"
      },
      "source": [
        "#### Create an array of 20 linearly spaced points between 0 and 1:\n",
        "np.linspace(0,1,20)"
      ],
      "execution_count": null,
      "outputs": []
    },
    {
      "cell_type": "code",
      "metadata": {
        "id": "-byV-yEEEnSY"
      },
      "source": [
        "# Now you will be given a few matrices, and be asked to replicate the resulting matrix outputs:\n",
        "mat = np.arange(1,26).reshape(5,5)\n",
        "mat"
      ],
      "execution_count": null,
      "outputs": []
    },
    {
      "cell_type": "code",
      "metadata": {
        "id": "1Z1nxxUnEuvD"
      },
      "source": [
        "mat[2:,1:]"
      ],
      "execution_count": null,
      "outputs": []
    },
    {
      "cell_type": "code",
      "metadata": {
        "id": "EeJk9yOuEwvO"
      },
      "source": [
        "mat[:3,1:2]\n"
      ],
      "execution_count": null,
      "outputs": []
    },
    {
      "cell_type": "code",
      "metadata": {
        "id": "FZsA8JwvEyQM"
      },
      "source": [
        "#### Get the sum of all the values in mat\n",
        "np.sum(mat)"
      ],
      "execution_count": null,
      "outputs": []
    },
    {
      "cell_type": "code",
      "metadata": {
        "id": "1GbhGxNOE3JX"
      },
      "source": [
        "#### Get the standard deviation of the values in mat\n",
        "np.std(mat)"
      ],
      "execution_count": null,
      "outputs": []
    },
    {
      "cell_type": "code",
      "metadata": {
        "id": "NOL_MaoSE6Fn"
      },
      "source": [
        "#### Get the sum of all the columns in mat\n",
        "np.sum(mat,0)"
      ],
      "execution_count": null,
      "outputs": []
    },
    {
      "cell_type": "code",
      "metadata": {
        "id": "D4gLshxME9ev"
      },
      "source": [
        ""
      ],
      "execution_count": null,
      "outputs": []
    },
    {
      "cell_type": "code",
      "metadata": {
        "id": "O8BLsiteFKgp"
      },
      "source": [
        ""
      ],
      "execution_count": null,
      "outputs": []
    }
  ]
}